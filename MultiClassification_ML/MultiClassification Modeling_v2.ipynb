{
 "cells": [
  {
   "cell_type": "code",
   "execution_count": 119,
   "id": "6d941915",
   "metadata": {},
   "outputs": [],
   "source": [
    "# !pip install shap"
   ]
  },
  {
   "cell_type": "code",
   "execution_count": 120,
   "id": "499aa673",
   "metadata": {},
   "outputs": [],
   "source": [
    "import pandas as pd\n",
    "import numpy as np\n",
    "import random\n",
    "import matplotlib.pyplot as plt\n",
    "import seaborn as sns\n",
    "import os\n",
    "import shap\n",
    "\n",
    "from catboost import CatBoostClassifier, Pool\n",
    "from sklearn.model_selection import train_test_split, RandomizedSearchCV, StratifiedKFold\n",
    "from sklearn.metrics import accuracy_score, ndcg_score, make_scorer\n",
    "from sklearn.preprocessing import LabelBinarizer, LabelEncoder\n",
    "\n",
    "from sklearn.feature_extraction.text import TfidfVectorizer\n",
    "from scipy.sparse import hstack\n",
    "from scipy.stats import randint as sp_randint"
   ]
  },
  {
   "cell_type": "code",
   "execution_count": 2,
   "id": "d470f33b",
   "metadata": {},
   "outputs": [],
   "source": [
    "def set_random_seed(seed):\n",
    "    np.random.seed(seed)\n",
    "    random.seed(seed)\n",
    "    os.environ['PYTHONHASHSEED'] = str(seed)\n",
    "random_seed = 1106\n",
    "set_random_seed(random_seed)"
   ]
  },
  {
   "cell_type": "code",
   "execution_count": 3,
   "id": "302135a1",
   "metadata": {},
   "outputs": [],
   "source": [
    "train = pd.read_csv('train_users_2.csv')\n",
    "session = pd.read_csv('sessions.csv')"
   ]
  },
  {
   "cell_type": "markdown",
   "id": "5cfb84da",
   "metadata": {},
   "source": [
    "## train 전처리\n"
   ]
  },
  {
   "cell_type": "code",
   "execution_count": 4,
   "id": "949ac243",
   "metadata": {},
   "outputs": [],
   "source": [
    "# train 전처리\n",
    "train.rename(columns={'id':'user_id'},inplace=True)\n",
    "train['timestamp_first_active'] = pd.to_datetime(train['timestamp_first_active'], format = '%Y%m%d%H%M%S')\n",
    "train['date_account_created'] = pd.to_datetime(train['date_account_created'])\n",
    "train['date_first_booking'] = pd.to_datetime(train['date_first_booking'], errors='coerce')\n",
    "train['first_affiliate_tracked'].fillna('untracked', inplace=True)"
   ]
  },
  {
   "cell_type": "markdown",
   "id": "d1ba90a2",
   "metadata": {},
   "source": [
    "### age 전처리"
   ]
  },
  {
   "cell_type": "code",
   "execution_count": 5,
   "id": "b90d307c",
   "metadata": {},
   "outputs": [],
   "source": [
    "train2 = train.copy()"
   ]
  },
  {
   "cell_type": "code",
   "execution_count": 6,
   "id": "e311f5e9",
   "metadata": {},
   "outputs": [],
   "source": [
    "# 나머지는 동일하게 처리하되 결측치는 평균으로 대체\n",
    "\n",
    "# 18세 이하는 0으로\n",
    "train2['age'] = train2['age'].apply(lambda x: 0 if x <= 18 else x)\n",
    "\n",
    "# 1000이상인 값은 태어난 년도로 간주하여 계정 생성연도를 추출하여 나이를 채운다\n",
    "current_year = pd.to_datetime(train2['date_account_created']).dt.year\n",
    "birth_year = current_year - train2['age']\n",
    "train2['age'] = np.where(train2['age'] > 1000, np.where(birth_year > 0, birth_year, 0), train2['age'])\n",
    "\n",
    "# 결측치는 평균으로 대체\n",
    "train2['age'].fillna(train2['age'].mean(), inplace=True)"
   ]
  },
  {
   "cell_type": "markdown",
   "id": "c1efad89",
   "metadata": {},
   "source": [
    "## session 전처리"
   ]
  },
  {
   "cell_type": "code",
   "execution_count": 8,
   "id": "bf89e8f4",
   "metadata": {},
   "outputs": [],
   "source": [
    "# user_id가 존재하지 않는 것은 삭제 -> train이랑 머지가 불가능한 데이터\n",
    "session.dropna(subset='user_id', inplace=True)\n",
    "\n",
    "session['action'].replace('-unknown-', 'unknown', inplace=True)\n",
    "session['action_type'].replace('-unknown-', 'unknown', inplace=True)\n",
    "session['action_detail'].replace('-unknown-', 'unknown', inplace=True)\n",
    "session['device_type'].replace('-unknown-', 'unknown', inplace=True)\n",
    "\n",
    "session['action'].fillna('unknown', inplace=True)\n",
    "session['action_type'].fillna('unknown', inplace=True)\n",
    "session['action_detail'].fillna('unknown', inplace=True)\n",
    "\n",
    "session['secs_elapsed'].fillna(0, inplace=True)\n",
    "\n",
    "# user_flow 컬럼 생성\n",
    "session['user_flow'] = session['action'].astype('str') + '+' + session['action_type'].astype('str') + '+' + session['action_detail'].astype('str')"
   ]
  },
  {
   "cell_type": "code",
   "execution_count": 9,
   "id": "78832f22",
   "metadata": {},
   "outputs": [],
   "source": [
    "# user별 user_flow 합치기\n",
    "user_flows_concatenated = session.groupby('user_id')['user_flow'].apply(lambda x: ','.join(x)).reset_index()\n",
    "\n",
    "session = pd.merge(session.drop(columns=['user_flow']), user_flows_concatenated, on='user_id', how='left')"
   ]
  },
  {
   "cell_type": "code",
   "execution_count": 10,
   "id": "0115504f",
   "metadata": {},
   "outputs": [],
   "source": [
    "session_df = session.copy()"
   ]
  },
  {
   "cell_type": "markdown",
   "id": "a29e8996",
   "metadata": {},
   "source": [
    "## feature engineering"
   ]
  },
  {
   "cell_type": "code",
   "execution_count": 11,
   "id": "e13d9837",
   "metadata": {},
   "outputs": [],
   "source": [
    "# user_id별 평균 secs_elapsed column 생성\n",
    "session_df['mean_secs_elapsed'] = session_df.groupby('user_id')['secs_elapsed'].transform('mean')\n",
    "# user_id별 가장 빈도수가 높은 device_type column 생성\n",
    "session_df['most_frequent_device'] = session_df.groupby('user_id')['device_type'].transform(lambda x: x.mode()[0])\n",
    "# user_id별 세션 총 개수\n",
    "session_df['session_count'] = session_df.groupby('user_id')['action'].transform('count')"
   ]
  },
  {
   "cell_type": "code",
   "execution_count": 12,
   "id": "d1ea01ae",
   "metadata": {},
   "outputs": [],
   "source": [
    "session_df.drop(['action', 'action_type', 'action_detail', 'device_type', 'secs_elapsed'], axis=1, inplace=True)"
   ]
  },
  {
   "cell_type": "code",
   "execution_count": 13,
   "id": "98e472bc",
   "metadata": {},
   "outputs": [],
   "source": [
    "session_df.drop_duplicates(subset='user_id', inplace=True)"
   ]
  },
  {
   "cell_type": "markdown",
   "id": "3bae880e",
   "metadata": {},
   "source": [
    "## Train Merge"
   ]
  },
  {
   "cell_type": "code",
   "execution_count": 14,
   "id": "5edb352b",
   "metadata": {},
   "outputs": [],
   "source": [
    "merged_df = pd.merge(train2, session_df, on='user_id', how='inner')"
   ]
  },
  {
   "cell_type": "code",
   "execution_count": 23,
   "id": "4da4eb32",
   "metadata": {},
   "outputs": [
    {
     "data": {
      "text/plain": [
       "(73815, 20)"
      ]
     },
     "execution_count": 23,
     "metadata": {},
     "output_type": "execute_result"
    }
   ],
   "source": [
    "merged_df.shape"
   ]
  },
  {
   "cell_type": "code",
   "execution_count": 28,
   "id": "34bf6347",
   "metadata": {},
   "outputs": [],
   "source": [
    "# tfidf\n",
    "tfidf_vectorizer = TfidfVectorizer()\n",
    "tfidf_matrix = tfidf_vectorizer.fit_transform(merged_df['user_flow'])\n",
    "\n",
    "# TF-IDF를 기존 데이터프레임에 추가\n",
    "tfidf_df = pd.DataFrame(tfidf_matrix.toarray(), columns=tfidf_vectorizer.get_feature_names_out())\n",
    "tfidf_merged = pd.concat([merged_df, tfidf_df], axis=1)\n",
    "\n",
    "# TF-IDF를 적용한 데이터에서 불필요한 열 제거\n",
    "tfidf_merged.drop(['user_flow'], axis=1, inplace=True)"
   ]
  },
  {
   "cell_type": "code",
   "execution_count": 29,
   "id": "c6a18ab1",
   "metadata": {},
   "outputs": [
    {
     "data": {
      "text/plain": [
       "(73815, 449)"
      ]
     },
     "execution_count": 29,
     "metadata": {},
     "output_type": "execute_result"
    }
   ],
   "source": [
    "tfidf_merged.shape"
   ]
  },
  {
   "cell_type": "markdown",
   "id": "0342f416",
   "metadata": {},
   "source": [
    "# Test 전처리"
   ]
  },
  {
   "cell_type": "code",
   "execution_count": 16,
   "id": "4f9952b7",
   "metadata": {},
   "outputs": [],
   "source": [
    "test = pd.read_csv('test_users.csv')"
   ]
  },
  {
   "cell_type": "code",
   "execution_count": 17,
   "id": "50c3353b",
   "metadata": {},
   "outputs": [
    {
     "data": {
      "text/plain": [
       "id                             0\n",
       "date_account_created           0\n",
       "timestamp_first_active         0\n",
       "date_first_booking         62096\n",
       "gender                         0\n",
       "age                        28876\n",
       "signup_method                  0\n",
       "signup_flow                    0\n",
       "language                       0\n",
       "affiliate_channel              0\n",
       "affiliate_provider             0\n",
       "first_affiliate_tracked       20\n",
       "signup_app                     0\n",
       "first_device_type              0\n",
       "first_browser                  0\n",
       "dtype: int64"
      ]
     },
     "execution_count": 17,
     "metadata": {},
     "output_type": "execute_result"
    }
   ],
   "source": [
    "test.isnull().sum()"
   ]
  },
  {
   "cell_type": "code",
   "execution_count": 18,
   "id": "646ec0b8",
   "metadata": {},
   "outputs": [],
   "source": [
    "# test 전처리\n",
    "test.rename(columns={'id':'user_id'},inplace=True)\n",
    "test['timestamp_first_active'] = pd.to_datetime(test['timestamp_first_active'], format = '%Y%m%d%H%M%S')\n",
    "test['date_account_created'] = pd.to_datetime(test['date_account_created'])\n",
    "test['date_first_booking'] = pd.to_datetime(test['date_first_booking'], errors='coerce')\n",
    "test['first_affiliate_tracked'].fillna('untracked', inplace=True)"
   ]
  },
  {
   "cell_type": "code",
   "execution_count": 19,
   "id": "eb9103c5",
   "metadata": {},
   "outputs": [],
   "source": [
    "test2 = test.copy()"
   ]
  },
  {
   "cell_type": "code",
   "execution_count": 20,
   "id": "20d3718c",
   "metadata": {},
   "outputs": [],
   "source": [
    "#나머지는 동일하게 처리하되 결측치는 평균으로 대체\n",
    "\n",
    "# 18세 이하는 0으로\n",
    "test2['age'] = test2['age'].apply(lambda x: 0 if x <= 18 else x)\n",
    "\n",
    "# 1000이상인 값은 태어난 년도로 간주하여 계정 생성연도를 추출하여 나이를 채운다\n",
    "current_year = pd.to_datetime(test2['date_account_created']).dt.year\n",
    "birth_year = current_year - test2['age']\n",
    "test2['age'] = np.where(test2['age'] > 1000, np.where(birth_year > 0, birth_year, 0), test2['age'])\n",
    "\n",
    "# 결측치는 평균으로 대체\n",
    "test2['age'].fillna(test2['age'].mean(), inplace=True)"
   ]
  },
  {
   "cell_type": "code",
   "execution_count": 24,
   "id": "5db68948",
   "metadata": {},
   "outputs": [
    {
     "data": {
      "text/plain": [
       "(62096, 15)"
      ]
     },
     "execution_count": 24,
     "metadata": {},
     "output_type": "execute_result"
    }
   ],
   "source": [
    "test2.shape"
   ]
  },
  {
   "cell_type": "code",
   "execution_count": 25,
   "id": "1ba4e27a",
   "metadata": {},
   "outputs": [],
   "source": [
    "# test merge\n",
    "merged_test = pd.merge(test2, session_df, on='user_id', how='inner')"
   ]
  },
  {
   "cell_type": "code",
   "execution_count": 26,
   "id": "3ca11d4a",
   "metadata": {},
   "outputs": [
    {
     "data": {
      "text/plain": [
       "(61668, 19)"
      ]
     },
     "execution_count": 26,
     "metadata": {},
     "output_type": "execute_result"
    }
   ],
   "source": [
    "merged_test.shape"
   ]
  },
  {
   "cell_type": "code",
   "execution_count": 30,
   "id": "42e39ec7",
   "metadata": {},
   "outputs": [],
   "source": [
    "# tfidf\n",
    "tfidf_vectorizer = TfidfVectorizer()\n",
    "tfidf_matrix = tfidf_vectorizer.fit_transform(merged_test['user_flow'])\n",
    "\n",
    "# TF-IDF를 기존 데이터프레임에 추가\n",
    "tfidf_df = pd.DataFrame(tfidf_matrix.toarray(), columns=tfidf_vectorizer.get_feature_names_out())\n",
    "tfidf_test = pd.concat([merged_test, tfidf_df], axis=1)\n",
    "\n",
    "# TF-IDF를 적용한 데이터에서 불필요한 열 제거\n",
    "tfidf_test.drop(['user_flow'], axis=1, inplace=True)"
   ]
  },
  {
   "cell_type": "code",
   "execution_count": 31,
   "id": "249c2610",
   "metadata": {},
   "outputs": [
    {
     "data": {
      "text/plain": [
       "(61668, 457)"
      ]
     },
     "execution_count": 31,
     "metadata": {},
     "output_type": "execute_result"
    }
   ],
   "source": [
    "tfidf_test.shape"
   ]
  },
  {
   "cell_type": "markdown",
   "id": "54390ed9",
   "metadata": {},
   "source": [
    "## train / test column matching"
   ]
  },
  {
   "cell_type": "code",
   "execution_count": 32,
   "id": "f3af2c37",
   "metadata": {},
   "outputs": [
    {
     "name": "stdout",
     "output_type": "stream",
     "text": [
      "train set: (73815, 449)\n",
      "test set: (61668, 457)\n"
     ]
    }
   ],
   "source": [
    "print(\"train set:\", tfidf_merged.shape)\n",
    "print(\"test set:\", tfidf_test.shape)"
   ]
  },
  {
   "cell_type": "code",
   "execution_count": 35,
   "id": "d136a407",
   "metadata": {},
   "outputs": [],
   "source": [
    "# 서로에게 없는 컬럼 확인\n",
    "train_columns_only = set(column for column in tfidf_merged.columns if column != 'country_destination') - set(tfidf_test.columns)\n",
    "\n",
    "test_columns_only = set(tfidf_test.columns) - set(tfidf_merged.columns)"
   ]
  },
  {
   "cell_type": "code",
   "execution_count": 36,
   "id": "77c1d7c9",
   "metadata": {},
   "outputs": [
    {
     "name": "stdout",
     "output_type": "stream",
     "text": [
      "train columns only: 49\n",
      "test columns only: 58\n"
     ]
    }
   ],
   "source": [
    "print(\"train columns only:\", len(train_columns_only))\n",
    "print(\"test columns only:\", len(test_columns_only))"
   ]
  },
  {
   "cell_type": "code",
   "execution_count": 37,
   "id": "f2be17fa",
   "metadata": {},
   "outputs": [],
   "source": [
    "# 서로에게 없는 것은 예측에 사용할 수 없으므로 삭제\n",
    "tfidf_merged_processed = tfidf_merged.drop(columns=train_columns_only)\n",
    "tfidf_test_processed = tfidf_test.drop(columns=test_columns_only)"
   ]
  },
  {
   "cell_type": "code",
   "execution_count": 39,
   "id": "e22e219e",
   "metadata": {},
   "outputs": [
    {
     "name": "stdout",
     "output_type": "stream",
     "text": [
      "train set: (73815, 400)\n",
      "test set: (61668, 399)\n"
     ]
    }
   ],
   "source": [
    "# train의 user_id 이외에는 동일\n",
    "print(\"train set:\", tfidf_merged_processed.shape)\n",
    "print(\"test set:\", tfidf_test_processed.shape)"
   ]
  },
  {
   "cell_type": "code",
   "execution_count": 44,
   "id": "4c3507f7",
   "metadata": {},
   "outputs": [
    {
     "data": {
      "text/plain": [
       "61668"
      ]
     },
     "execution_count": 44,
     "metadata": {},
     "output_type": "execute_result"
    }
   ],
   "source": [
    "ids = tfidf_test_processed['user_id']\n",
    "len(ids)"
   ]
  },
  {
   "cell_type": "code",
   "execution_count": 45,
   "id": "5fb4f146",
   "metadata": {},
   "outputs": [],
   "source": [
    "tfidf_test_processed.drop(['user_id','date_first_booking'], axis=1, inplace=True)"
   ]
  },
  {
   "cell_type": "code",
   "execution_count": 46,
   "id": "3831a4d2",
   "metadata": {},
   "outputs": [
    {
     "name": "stdout",
     "output_type": "stream",
     "text": [
      "train set: (73815, 400)\n",
      "test set: (61668, 397)\n"
     ]
    }
   ],
   "source": [
    "print(\"train set:\", tfidf_merged_processed.shape)\n",
    "print(\"test set:\", tfidf_test_processed.shape)"
   ]
  },
  {
   "cell_type": "markdown",
   "id": "07ab893c",
   "metadata": {},
   "source": [
    "## Modeling"
   ]
  },
  {
   "cell_type": "code",
   "execution_count": 40,
   "id": "6736ebb1",
   "metadata": {},
   "outputs": [],
   "source": [
    "cat_features3 = ['gender', 'signup_method', 'language', 'affiliate_channel', 'affiliate_provider',\n",
    "                'first_affiliate_tracked', 'signup_app', 'first_device_type', 'first_browser',\n",
    "                'most_frequent_device']"
   ]
  },
  {
   "cell_type": "code",
   "execution_count": 47,
   "id": "24c26756",
   "metadata": {},
   "outputs": [],
   "source": [
    "X = tfidf_merged_processed.drop(['user_id', 'date_first_booking', 'country_destination'], axis=1)\n",
    "y = tfidf_merged_processed['country_destination']"
   ]
  },
  {
   "cell_type": "code",
   "execution_count": 48,
   "id": "947bfd50",
   "metadata": {},
   "outputs": [
    {
     "name": "stdout",
     "output_type": "stream",
     "text": [
      "0:\tlearn: 1.9778115\ttest: 1.9791817\tbest: 1.9791817 (0)\ttotal: 893ms\tremaining: 1m 28s\n",
      "20:\tlearn: 0.9877456\ttest: 0.9925559\tbest: 0.9925559 (20)\ttotal: 18.3s\tremaining: 1m 8s\n",
      "40:\tlearn: 0.9299216\ttest: 0.9398013\tbest: 0.9398013 (40)\ttotal: 36.6s\tremaining: 52.6s\n",
      "60:\tlearn: 0.9171119\ttest: 0.9313468\tbest: 0.9313468 (60)\ttotal: 55.2s\tremaining: 35.3s\n",
      "80:\tlearn: 0.9087066\ttest: 0.9277485\tbest: 0.9277485 (80)\ttotal: 1m 14s\tremaining: 17.5s\n",
      "99:\tlearn: 0.9022379\ttest: 0.9249172\tbest: 0.9249172 (99)\ttotal: 1m 32s\tremaining: 0us\n",
      "\n",
      "bestTest = 0.9249172202\n",
      "bestIteration = 99\n",
      "\n",
      "0:\tlearn: 1.9720698\ttest: 1.9733008\tbest: 1.9733008 (0)\ttotal: 903ms\tremaining: 1m 29s\n",
      "20:\tlearn: 0.9823973\ttest: 0.9907683\tbest: 0.9907683 (20)\ttotal: 20.8s\tremaining: 1m 18s\n",
      "40:\tlearn: 0.9265822\ttest: 0.9411513\tbest: 0.9411513 (40)\ttotal: 39.4s\tremaining: 56.6s\n",
      "60:\tlearn: 0.9135375\ttest: 0.9331463\tbest: 0.9331463 (60)\ttotal: 59.2s\tremaining: 37.8s\n",
      "80:\tlearn: 0.9041464\ttest: 0.9290678\tbest: 0.9290678 (80)\ttotal: 1m 17s\tremaining: 18.2s\n",
      "99:\tlearn: 0.8986348\ttest: 0.9274682\tbest: 0.9274682 (99)\ttotal: 1m 34s\tremaining: 0us\n",
      "\n",
      "bestTest = 0.9274681786\n",
      "bestIteration = 99\n",
      "\n",
      "0:\tlearn: 1.9748506\ttest: 1.9726540\tbest: 1.9726540 (0)\ttotal: 817ms\tremaining: 1m 20s\n",
      "20:\tlearn: 0.9877612\ttest: 0.9891022\tbest: 0.9891022 (20)\ttotal: 19.3s\tremaining: 1m 12s\n",
      "40:\tlearn: 0.9319183\ttest: 0.9384459\tbest: 0.9384459 (40)\ttotal: 37.4s\tremaining: 53.9s\n",
      "60:\tlearn: 0.9188841\ttest: 0.9298999\tbest: 0.9298999 (60)\ttotal: 56.6s\tremaining: 36.2s\n",
      "80:\tlearn: 0.9111938\ttest: 0.9263018\tbest: 0.9263018 (80)\ttotal: 1m 14s\tremaining: 17.6s\n",
      "99:\tlearn: 0.9047462\ttest: 0.9240776\tbest: 0.9240776 (99)\ttotal: 1m 32s\tremaining: 0us\n",
      "\n",
      "bestTest = 0.9240775743\n",
      "bestIteration = 99\n",
      "\n",
      "Mean NDCG Score: 0.8536395133876636\n"
     ]
    }
   ],
   "source": [
    "n_splits = 3\n",
    "\n",
    "skf = StratifiedKFold(n_splits=n_splits, shuffle=True, random_state=random_seed)\n",
    "\n",
    "model = CatBoostClassifier(iterations=100, \n",
    "                           learning_rate=0.1, \n",
    "                           depth=6, \n",
    "                           loss_function='MultiClass',\n",
    "                           cat_features=cat_features3,\n",
    "                           random_seed=random_seed,\n",
    "                           eval_metric='MultiClass',\n",
    "                           verbose=20)\n",
    "\n",
    "ndcg_scores = []\n",
    "\n",
    "lb = LabelBinarizer()\n",
    "lb.fit(y)\n",
    "\n",
    "for train_index, test_index in skf.split(X, y):\n",
    "    X_train_fold, X_test_fold = X.iloc[train_index], X.iloc[test_index]\n",
    "    y_train_fold, y_test_fold = y.iloc[train_index], y.iloc[test_index]\n",
    "    \n",
    "    model.fit(X_train_fold, y_train_fold, eval_set=(X_test_fold, y_test_fold))\n",
    "    \n",
    "    y_pred_probs_fold = model.predict_proba(X_test_fold)\n",
    "    # k=5\n",
    "    ndcg_fold = ndcg_score(lb.transform(y_test_fold), y_pred_probs_fold, k=5)\n",
    "    ndcg_scores.append(ndcg_fold)\n",
    "\n",
    "mean_ndcg = np.mean(ndcg_scores)\n",
    "print(\"Mean NDCG Score:\", mean_ndcg)"
   ]
  },
  {
   "cell_type": "code",
   "execution_count": 51,
   "id": "956df1da",
   "metadata": {},
   "outputs": [],
   "source": [
    "pred_y_test = model.predict_proba(tfidf_test_processed)"
   ]
  },
  {
   "cell_type": "code",
   "execution_count": 53,
   "id": "f8080f88",
   "metadata": {},
   "outputs": [
    {
     "data": {
      "text/plain": [
       "(61668, 12)"
      ]
     },
     "execution_count": 53,
     "metadata": {},
     "output_type": "execute_result"
    }
   ],
   "source": [
    "pred_y_test.shape"
   ]
  },
  {
   "cell_type": "code",
   "execution_count": 57,
   "id": "452a25ed",
   "metadata": {},
   "outputs": [],
   "source": [
    "top_k = 5  \n",
    "\n",
    "cts = []\n",
    "\n",
    "for i in range(len(pred_y_test)):\n",
    "    sorted_indices = np.argsort(pred_y_test[i])[::-1][:top_k]  \n",
    "    sorted_indices_array = np.array(sorted_indices) \n",
    "    top_countries = lb.classes_[sorted_indices_array] \n",
    "    cts.append(top_countries)\n",
    "\n",
    "\n",
    "cts_flat = [country for sublist in cts for country in sublist]\n",
    "\n",
    "submission_df = pd.DataFrame({'id': np.repeat(ids, 5), 'country': cts_flat})"
   ]
  },
  {
   "cell_type": "code",
   "execution_count": 62,
   "id": "2bf29493",
   "metadata": {},
   "outputs": [],
   "source": [
    "# 예측 결과 저장\n",
    "submission_df.to_csv('sub1.csv', index=False)"
   ]
  },
  {
   "cell_type": "code",
   "execution_count": 69,
   "id": "d6925981",
   "metadata": {},
   "outputs": [
    {
     "data": {
      "text/html": [
       "<div>\n",
       "<style scoped>\n",
       "    .dataframe tbody tr th:only-of-type {\n",
       "        vertical-align: middle;\n",
       "    }\n",
       "\n",
       "    .dataframe tbody tr th {\n",
       "        vertical-align: top;\n",
       "    }\n",
       "\n",
       "    .dataframe thead th {\n",
       "        text-align: right;\n",
       "    }\n",
       "</style>\n",
       "<table border=\"1\" class=\"dataframe\">\n",
       "  <thead>\n",
       "    <tr style=\"text-align: right;\">\n",
       "      <th></th>\n",
       "      <th>Feature</th>\n",
       "      <th>Importance</th>\n",
       "    </tr>\n",
       "  </thead>\n",
       "  <tbody>\n",
       "    <tr>\n",
       "      <th>3</th>\n",
       "      <td>age</td>\n",
       "      <td>29.821394</td>\n",
       "    </tr>\n",
       "    <tr>\n",
       "      <th>72</th>\n",
       "      <td>booking_request</td>\n",
       "      <td>15.056176</td>\n",
       "    </tr>\n",
       "    <tr>\n",
       "      <th>2</th>\n",
       "      <td>gender</td>\n",
       "      <td>4.668679</td>\n",
       "    </tr>\n",
       "    <tr>\n",
       "      <th>88</th>\n",
       "      <td>change_trip_characteristics</td>\n",
       "      <td>3.225038</td>\n",
       "    </tr>\n",
       "    <tr>\n",
       "      <th>205</th>\n",
       "      <td>message_post</td>\n",
       "      <td>3.131205</td>\n",
       "    </tr>\n",
       "    <tr>\n",
       "      <th>...</th>\n",
       "      <td>...</td>\n",
       "      <td>...</td>\n",
       "    </tr>\n",
       "    <tr>\n",
       "      <th>164</th>\n",
       "      <td>host_guarantee</td>\n",
       "      <td>0.000000</td>\n",
       "    </tr>\n",
       "    <tr>\n",
       "      <th>163</th>\n",
       "      <td>hospitality</td>\n",
       "      <td>0.000000</td>\n",
       "    </tr>\n",
       "    <tr>\n",
       "      <th>162</th>\n",
       "      <td>home_safety_terms</td>\n",
       "      <td>0.000000</td>\n",
       "    </tr>\n",
       "    <tr>\n",
       "      <th>161</th>\n",
       "      <td>home_safety_landing</td>\n",
       "      <td>0.000000</td>\n",
       "    </tr>\n",
       "    <tr>\n",
       "      <th>396</th>\n",
       "      <td>zendesk_login_jwt</td>\n",
       "      <td>0.000000</td>\n",
       "    </tr>\n",
       "  </tbody>\n",
       "</table>\n",
       "<p>397 rows × 2 columns</p>\n",
       "</div>"
      ],
      "text/plain": [
       "                         Feature  Importance\n",
       "3                            age   29.821394\n",
       "72               booking_request   15.056176\n",
       "2                         gender    4.668679\n",
       "88   change_trip_characteristics    3.225038\n",
       "205                 message_post    3.131205\n",
       "..                           ...         ...\n",
       "164               host_guarantee    0.000000\n",
       "163                  hospitality    0.000000\n",
       "162            home_safety_terms    0.000000\n",
       "161          home_safety_landing    0.000000\n",
       "396            zendesk_login_jwt    0.000000\n",
       "\n",
       "[397 rows x 2 columns]"
      ]
     },
     "execution_count": 69,
     "metadata": {},
     "output_type": "execute_result"
    }
   ],
   "source": [
    "feature_importances = model.feature_importances_\n",
    "\n",
    "features = X.columns\n",
    "\n",
    "importance_df = pd.DataFrame({'Feature': features, 'Importance': feature_importances})\n",
    "\n",
    "importance_df = importance_df.sort_values(by='Importance', ascending=False)\n",
    "importance_df"
   ]
  },
  {
   "cell_type": "markdown",
   "id": "08f25e40",
   "metadata": {},
   "source": [
    "# Choosing the best model"
   ]
  },
  {
   "cell_type": "code",
   "execution_count": 63,
   "id": "b7dbeec8",
   "metadata": {},
   "outputs": [],
   "source": [
    "X2 = tfidf_merged_processed.drop(['user_id', 'date_first_booking', 'country_destination'], axis=1)\n",
    "y2 = tfidf_merged_processed['country_destination']"
   ]
  },
  {
   "cell_type": "code",
   "execution_count": 64,
   "id": "0f57b00b",
   "metadata": {},
   "outputs": [
    {
     "name": "stdout",
     "output_type": "stream",
     "text": [
      "0:\tlearn: 1.9778115\ttest: 1.9791817\tbest: 1.9791817 (0)\ttotal: 834ms\tremaining: 1m 22s\n",
      "20:\tlearn: 0.9877456\ttest: 0.9925559\tbest: 0.9925559 (20)\ttotal: 17.9s\tremaining: 1m 7s\n",
      "40:\tlearn: 0.9299216\ttest: 0.9398013\tbest: 0.9398013 (40)\ttotal: 35.7s\tremaining: 51.4s\n",
      "60:\tlearn: 0.9171119\ttest: 0.9313468\tbest: 0.9313468 (60)\ttotal: 52.8s\tremaining: 33.7s\n",
      "80:\tlearn: 0.9087066\ttest: 0.9277485\tbest: 0.9277485 (80)\ttotal: 1m 10s\tremaining: 16.6s\n",
      "99:\tlearn: 0.9022379\ttest: 0.9249172\tbest: 0.9249172 (99)\ttotal: 1m 27s\tremaining: 0us\n",
      "\n",
      "bestTest = 0.9249172202\n",
      "bestIteration = 99\n",
      "\n",
      "0:\tlearn: 1.9720698\ttest: 1.9733008\tbest: 1.9733008 (0)\ttotal: 851ms\tremaining: 1m 24s\n",
      "20:\tlearn: 0.9823973\ttest: 0.9907683\tbest: 0.9907683 (20)\ttotal: 18.8s\tremaining: 1m 10s\n",
      "40:\tlearn: 0.9265822\ttest: 0.9411513\tbest: 0.9411513 (40)\ttotal: 36.5s\tremaining: 52.6s\n",
      "60:\tlearn: 0.9135375\ttest: 0.9331463\tbest: 0.9331463 (60)\ttotal: 54.4s\tremaining: 34.8s\n",
      "80:\tlearn: 0.9041464\ttest: 0.9290678\tbest: 0.9290678 (80)\ttotal: 1m 12s\tremaining: 16.9s\n",
      "99:\tlearn: 0.8986348\ttest: 0.9274682\tbest: 0.9274682 (99)\ttotal: 1m 28s\tremaining: 0us\n",
      "\n",
      "bestTest = 0.9274681786\n",
      "bestIteration = 99\n",
      "\n",
      "0:\tlearn: 1.9748506\ttest: 1.9726540\tbest: 1.9726540 (0)\ttotal: 824ms\tremaining: 1m 21s\n",
      "20:\tlearn: 0.9877612\ttest: 0.9891022\tbest: 0.9891022 (20)\ttotal: 18.1s\tremaining: 1m 8s\n",
      "40:\tlearn: 0.9319183\ttest: 0.9384459\tbest: 0.9384459 (40)\ttotal: 35.2s\tremaining: 50.7s\n",
      "60:\tlearn: 0.9188841\ttest: 0.9298999\tbest: 0.9298999 (60)\ttotal: 52.2s\tremaining: 33.4s\n",
      "80:\tlearn: 0.9111938\ttest: 0.9263018\tbest: 0.9263018 (80)\ttotal: 1m 9s\tremaining: 16.4s\n",
      "99:\tlearn: 0.9047462\ttest: 0.9240776\tbest: 0.9240776 (99)\ttotal: 1m 26s\tremaining: 0us\n",
      "\n",
      "bestTest = 0.9240775743\n",
      "bestIteration = 99\n",
      "\n",
      "Mean NDCG Score: 0.8662234329605519\n"
     ]
    }
   ],
   "source": [
    "n_splits = 3\n",
    "\n",
    "skf = StratifiedKFold(n_splits=n_splits, shuffle=True, random_state=random_seed)\n",
    "\n",
    "model_2 = CatBoostClassifier(iterations=100, \n",
    "                           learning_rate=0.1, \n",
    "                           depth=6, \n",
    "                           loss_function='MultiClass',\n",
    "                           cat_features=cat_features3,\n",
    "                           random_seed=random_seed,\n",
    "#                            eval_metric='MultiClass',\n",
    "                           verbose=20)\n",
    "\n",
    "ndcg_scores = []\n",
    "\n",
    "lb = LabelBinarizer()\n",
    "lb.fit(y2)\n",
    "\n",
    "for train_index, test_index in skf.split(X2, y2):\n",
    "    X_train_fold, X_test_fold = X2.iloc[train_index], X2.iloc[test_index]\n",
    "    y_train_fold, y_test_fold = y2.iloc[train_index], y2.iloc[test_index]\n",
    "    \n",
    "    model_2.fit(X_train_fold, y_train_fold, eval_set=(X_test_fold, y_test_fold))\n",
    "    \n",
    "    y_pred_probs_fold = model.predict_proba(X_test_fold)\n",
    "    # k=5\n",
    "    ndcg_fold = ndcg_score(lb.transform(y_test_fold), y_pred_probs_fold)\n",
    "    ndcg_scores.append(ndcg_fold)\n",
    "\n",
    "mean_ndcg = np.mean(ndcg_scores)\n",
    "print(\"Mean NDCG Score:\", mean_ndcg)"
   ]
  },
  {
   "cell_type": "code",
   "execution_count": 65,
   "id": "6d51b4f2",
   "metadata": {},
   "outputs": [],
   "source": [
    "pred_y_test = model.predict_proba(tfidf_test_processed)"
   ]
  },
  {
   "cell_type": "code",
   "execution_count": 66,
   "id": "7e437e6d",
   "metadata": {},
   "outputs": [],
   "source": [
    "top_k = 5  # 상위 5개 국가만\n",
    "\n",
    "cts = []\n",
    "\n",
    "for i in range(len(pred_y_test)):\n",
    "    sorted_indices = np.argsort(pred_y_test[i])[::-1][:top_k]  \n",
    "    sorted_indices_array = np.array(sorted_indices)  \n",
    "    top_countries = lb.classes_[sorted_indices_array]  \n",
    "    cts.append(top_countries)\n",
    "\n",
    "\n",
    "cts_flat = [country for sublist in cts for country in sublist]\n",
    "\n",
    "submission_df = pd.DataFrame({'id': np.repeat(ids, 5), 'country': cts_flat})"
   ]
  },
  {
   "cell_type": "code",
   "execution_count": 68,
   "id": "15e563dc",
   "metadata": {},
   "outputs": [],
   "source": [
    "# eval_metric이나 k값을 지정하지 않은 예측 결과는 동일했다.\n",
    "submission_df.to_csv('sub2.csv', index=False)"
   ]
  },
  {
   "cell_type": "markdown",
   "id": "6bf16a5c",
   "metadata": {},
   "source": [
    "### Submission result\n",
    "- sub1.csv :\n",
    "    - Public : 0.83144, Private : 0.83354"
   ]
  },
  {
   "cell_type": "code",
   "execution_count": null,
   "id": "3389b30a",
   "metadata": {},
   "outputs": [],
   "source": []
  }
 ],
 "metadata": {
  "kernelspec": {
   "display_name": "Python 3 (ipykernel)",
   "language": "python",
   "name": "python3"
  },
  "language_info": {
   "codemirror_mode": {
    "name": "ipython",
    "version": 3
   },
   "file_extension": ".py",
   "mimetype": "text/x-python",
   "name": "python",
   "nbconvert_exporter": "python",
   "pygments_lexer": "ipython3",
   "version": "3.11.5"
  }
 },
 "nbformat": 4,
 "nbformat_minor": 5
}
