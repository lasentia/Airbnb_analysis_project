{
 "cells": [
  {
   "cell_type": "code",
   "execution_count": 1,
   "id": "d50e455b-b10f-4e41-b829-070ef00e81de",
   "metadata": {},
   "outputs": [],
   "source": [
    "import numpy as np\n",
    "import pandas as pd\n",
    "import matplotlib.pyplot as plt\n",
    "import seaborn as sns\n",
    "import re\n",
    "import random\n",
    "import os\n",
    "import warnings\n",
    "warnings.filterwarnings('ignore')\n",
    "\n",
    "# 한글 폰트 설정\n",
    "# plt.rcParams['font.family'] = 'Malgun Gothic\n",
    "plt.rc('font', family='NanumBarunGothic')\n",
    "\n",
    "plt.rcParams['axes.unicode_minus'] = False ## 마이너스 부호 깨짐 방지\n",
    "\n",
    "pd.set_option('display.max_columns', None)                       # 출력할 열의 최대개수\n",
    "pd.set_option('display.max_colwidth', None)                      # 출력할 열의 너비\n",
    "# pd.reset_option('display.max_rows', None)                    # 출력할 행의 최대개수  None\n",
    "pd.set_option('display.unicode.east_asian_width', True) "
   ]
  },
  {
   "cell_type": "code",
   "execution_count": 2,
   "id": "9dc7e17a-52ce-432f-bd22-2d37d94f0690",
   "metadata": {},
   "outputs": [],
   "source": [
    "def set_random_seed(seed):\n",
    "    np.random.seed(seed)\n",
    "    random.seed(seed)\n",
    "    os.environ['PYTHONHASHSEED'] = str(seed)\n",
    "    \n",
    "random_seed = 1106\n",
    "set_random_seed(random_seed)"
   ]
  },
  {
   "cell_type": "markdown",
   "id": "cd915fbb-4ae2-4c5a-88b3-632d94cf8c4a",
   "metadata": {},
   "source": [
    "### 컬럼 설명\n",
    "### train_users_2.csv\n",
    "- id : 사용자 아이디\n",
    "- date_account_created: 계정 생성 날짜\n",
    "- timestamp_first_active: 첫 번째 활동의 타임스탬프입니다. 사용자가 가입하기 전에 검색할 수 있으므로 date_account_created 또는 date_first_booking보다 이전일 수 있습니다.\n",
    "- date_first_booking: 첫 예약 날짜\n",
    "- 성별\n",
    "- 나이\n",
    "- signup_method - 가입_방법\n",
    "- signup_flow: 사용자가 가입하기 위해 온 페이지\n",
    "- language: 국제 언어 기본 설정\n",
    "- affili_channel: 유료 마케팅의 종류\n",
    "- affiliate_provider: 마케팅이 이루어지는 곳. 구글, 크레이그리스트, 기타\n",
    "- first_affiliate_tracked: 가입하기 전에 사용자가 처음으로 상호작용한 마케팅은 무엇입니까?\n",
    "- signup_app - 가입_앱\n",
    "- first_device_type - 첫 번째_장치_유형\n",
    "- first_browser - 첫 번째_브라우저\n",
    "- country_destination: 예측할 대상 변수입니다.\n",
    "### session.csv - 사용자에 대한 웹 세션 로그\n",
    "- user_id: users 테이블의 'id' 컬럼과 조인됩니다.\n",
    "- action - 행동 \n",
    "- action_type\n",
    "- action_detail - 액션_디테일\n",
    "- device_type - 기기 종류\n",
    "- secs_elapsed - 초_경과 \n",
    "#### country.csv - 이 데이터세트의 목적지 국가와 해당 위치에 대한 요약 통계\n",
    "#### age_gender_bkts.csv - 사용자의 연령대, 성별, 목적지 국가에 대한 요약 통계\n",
    "#### Sample_submission.csv - 예측 제출을 위한 올바른 형식"
   ]
  },
  {
   "cell_type": "markdown",
   "id": "4b1f77ab-5aa2-4f9e-a77a-a779f5ed6121",
   "metadata": {},
   "source": [
    "## 데이터 로드 "
   ]
  },
  {
   "cell_type": "code",
   "execution_count": 3,
   "id": "c7e35964-4d6c-4fa1-b814-dd0a364d5659",
   "metadata": {},
   "outputs": [],
   "source": [
    "train = pd.read_csv(\"train_users_2.csv\") ## 학습 데이터\n",
    "sessions = pd.read_csv(\"sessions.csv\") ## 유저 세션 데이터\n",
    "test = pd.read_csv(\"test_users.csv\") ## 테스트 데이터\n",
    "\n",
    "train.rename(columns={'id':'user_id'}, inplace=True)"
   ]
  },
  {
   "cell_type": "markdown",
   "id": "a80a762f-937c-459b-9f37-91c34049f888",
   "metadata": {},
   "source": [
    "### user_flow 생성"
   ]
  },
  {
   "cell_type": "code",
   "execution_count": 4,
   "id": "d6a724c8-03d7-4d5d-9a3d-cb6c4bce61ee",
   "metadata": {},
   "outputs": [],
   "source": [
    "sessions['user_flow'] = sessions['action'].astype('str') + '+' + sessions['action_type'].astype('str') + '+' + sessions['action_detail'].astype('str')"
   ]
  },
  {
   "cell_type": "markdown",
   "id": "7a41b16e-3926-4372-b007-9617812b9846",
   "metadata": {},
   "source": [
    "### timestamp_first_active ->  datetime 타입 변환"
   ]
  },
  {
   "cell_type": "code",
   "execution_count": 5,
   "id": "93227476-2565-4db2-b214-02533065ca0f",
   "metadata": {},
   "outputs": [],
   "source": [
    "train['timestamp_first_active'] = pd.to_datetime(train['timestamp_first_active'], format = '%Y%m%d%H%M%S').dt.strftime('%Y-%m-%d')\n",
    "train['timestamp_first_active'] = pd.to_datetime(train['timestamp_first_active'])\n",
    "train['date_account_created'] = pd.to_datetime(train['date_account_created'])\n",
    "train['date_first_booking'] = pd.to_datetime(train['date_first_booking'], errors='coerce')"
   ]
  },
  {
   "cell_type": "markdown",
   "id": "cbdd2524-e132-450e-8ae1-193ae75bc063",
   "metadata": {},
   "source": [
    "### train, session에 공통 id로 train 구성 -> session 조인 X"
   ]
  },
  {
   "cell_type": "code",
   "execution_count": 6,
   "id": "276f3e9e-18fd-472e-9f29-d2078f593cf7",
   "metadata": {},
   "outputs": [],
   "source": [
    "# train의 user_id가 sessions의 user_id에 포함되어 있는지 판단\n",
    "mask = train['user_id'].isin(sessions['user_id'])\n",
    "\n",
    "## sessions에 포함된 user로 구성 (중복 x)\n",
    "df = train[mask]\n",
    "df.reset_index(drop=True, inplace=True)"
   ]
  },
  {
   "cell_type": "code",
   "execution_count": 7,
   "id": "ab109285-7575-4e6e-b12d-b452525840bd",
   "metadata": {},
   "outputs": [
    {
     "data": {
      "text/html": [
       "<div>\n",
       "<style scoped>\n",
       "    .dataframe tbody tr th:only-of-type {\n",
       "        vertical-align: middle;\n",
       "    }\n",
       "\n",
       "    .dataframe tbody tr th {\n",
       "        vertical-align: top;\n",
       "    }\n",
       "\n",
       "    .dataframe thead th {\n",
       "        text-align: right;\n",
       "    }\n",
       "</style>\n",
       "<table border=\"1\" class=\"dataframe\">\n",
       "  <thead>\n",
       "    <tr style=\"text-align: right;\">\n",
       "      <th></th>\n",
       "      <th>user_id</th>\n",
       "      <th>date_account_created</th>\n",
       "      <th>timestamp_first_active</th>\n",
       "      <th>date_first_booking</th>\n",
       "      <th>gender</th>\n",
       "      <th>age</th>\n",
       "      <th>signup_method</th>\n",
       "      <th>signup_flow</th>\n",
       "      <th>language</th>\n",
       "      <th>affiliate_channel</th>\n",
       "      <th>affiliate_provider</th>\n",
       "      <th>first_affiliate_tracked</th>\n",
       "      <th>signup_app</th>\n",
       "      <th>first_device_type</th>\n",
       "      <th>first_browser</th>\n",
       "      <th>country_destination</th>\n",
       "    </tr>\n",
       "  </thead>\n",
       "  <tbody>\n",
       "    <tr>\n",
       "      <th>0</th>\n",
       "      <td>d1mm9tcy42</td>\n",
       "      <td>2014-01-01</td>\n",
       "      <td>2014-01-01</td>\n",
       "      <td>2014-01-04</td>\n",
       "      <td>MALE</td>\n",
       "      <td>62.0</td>\n",
       "      <td>basic</td>\n",
       "      <td>0</td>\n",
       "      <td>en</td>\n",
       "      <td>sem-non-brand</td>\n",
       "      <td>google</td>\n",
       "      <td>omg</td>\n",
       "      <td>Web</td>\n",
       "      <td>Windows Desktop</td>\n",
       "      <td>Chrome</td>\n",
       "      <td>other</td>\n",
       "    </tr>\n",
       "    <tr>\n",
       "      <th>1</th>\n",
       "      <td>yo8nz8bqcq</td>\n",
       "      <td>2014-01-01</td>\n",
       "      <td>2014-01-01</td>\n",
       "      <td>NaT</td>\n",
       "      <td>-unknown-</td>\n",
       "      <td>NaN</td>\n",
       "      <td>basic</td>\n",
       "      <td>0</td>\n",
       "      <td>en</td>\n",
       "      <td>direct</td>\n",
       "      <td>direct</td>\n",
       "      <td>untracked</td>\n",
       "      <td>Web</td>\n",
       "      <td>Mac Desktop</td>\n",
       "      <td>Firefox</td>\n",
       "      <td>NDF</td>\n",
       "    </tr>\n",
       "    <tr>\n",
       "      <th>2</th>\n",
       "      <td>4grx6yxeby</td>\n",
       "      <td>2014-01-01</td>\n",
       "      <td>2014-01-01</td>\n",
       "      <td>NaT</td>\n",
       "      <td>-unknown-</td>\n",
       "      <td>NaN</td>\n",
       "      <td>basic</td>\n",
       "      <td>0</td>\n",
       "      <td>en</td>\n",
       "      <td>sem-brand</td>\n",
       "      <td>google</td>\n",
       "      <td>omg</td>\n",
       "      <td>Web</td>\n",
       "      <td>Windows Desktop</td>\n",
       "      <td>Firefox</td>\n",
       "      <td>NDF</td>\n",
       "    </tr>\n",
       "    <tr>\n",
       "      <th>3</th>\n",
       "      <td>ncf87guaf0</td>\n",
       "      <td>2014-01-01</td>\n",
       "      <td>2014-01-01</td>\n",
       "      <td>NaT</td>\n",
       "      <td>-unknown-</td>\n",
       "      <td>NaN</td>\n",
       "      <td>basic</td>\n",
       "      <td>0</td>\n",
       "      <td>en</td>\n",
       "      <td>direct</td>\n",
       "      <td>direct</td>\n",
       "      <td>linked</td>\n",
       "      <td>Web</td>\n",
       "      <td>Windows Desktop</td>\n",
       "      <td>Chrome</td>\n",
       "      <td>NDF</td>\n",
       "    </tr>\n",
       "    <tr>\n",
       "      <th>4</th>\n",
       "      <td>4rvqpxoh3h</td>\n",
       "      <td>2014-01-01</td>\n",
       "      <td>2014-01-01</td>\n",
       "      <td>2014-01-02</td>\n",
       "      <td>-unknown-</td>\n",
       "      <td>NaN</td>\n",
       "      <td>basic</td>\n",
       "      <td>25</td>\n",
       "      <td>en</td>\n",
       "      <td>direct</td>\n",
       "      <td>direct</td>\n",
       "      <td>untracked</td>\n",
       "      <td>iOS</td>\n",
       "      <td>iPhone</td>\n",
       "      <td>-unknown-</td>\n",
       "      <td>GB</td>\n",
       "    </tr>\n",
       "    <tr>\n",
       "      <th>...</th>\n",
       "      <td>...</td>\n",
       "      <td>...</td>\n",
       "      <td>...</td>\n",
       "      <td>...</td>\n",
       "      <td>...</td>\n",
       "      <td>...</td>\n",
       "      <td>...</td>\n",
       "      <td>...</td>\n",
       "      <td>...</td>\n",
       "      <td>...</td>\n",
       "      <td>...</td>\n",
       "      <td>...</td>\n",
       "      <td>...</td>\n",
       "      <td>...</td>\n",
       "      <td>...</td>\n",
       "      <td>...</td>\n",
       "    </tr>\n",
       "    <tr>\n",
       "      <th>73810</th>\n",
       "      <td>zxodksqpep</td>\n",
       "      <td>2014-06-30</td>\n",
       "      <td>2014-06-30</td>\n",
       "      <td>NaT</td>\n",
       "      <td>MALE</td>\n",
       "      <td>32.0</td>\n",
       "      <td>basic</td>\n",
       "      <td>0</td>\n",
       "      <td>en</td>\n",
       "      <td>sem-brand</td>\n",
       "      <td>google</td>\n",
       "      <td>omg</td>\n",
       "      <td>Web</td>\n",
       "      <td>Mac Desktop</td>\n",
       "      <td>Safari</td>\n",
       "      <td>NDF</td>\n",
       "    </tr>\n",
       "    <tr>\n",
       "      <th>73811</th>\n",
       "      <td>mhewnxesx9</td>\n",
       "      <td>2014-06-30</td>\n",
       "      <td>2014-06-30</td>\n",
       "      <td>NaT</td>\n",
       "      <td>-unknown-</td>\n",
       "      <td>NaN</td>\n",
       "      <td>basic</td>\n",
       "      <td>0</td>\n",
       "      <td>en</td>\n",
       "      <td>direct</td>\n",
       "      <td>direct</td>\n",
       "      <td>linked</td>\n",
       "      <td>Web</td>\n",
       "      <td>Windows Desktop</td>\n",
       "      <td>Chrome</td>\n",
       "      <td>NDF</td>\n",
       "    </tr>\n",
       "    <tr>\n",
       "      <th>73812</th>\n",
       "      <td>6o3arsjbb4</td>\n",
       "      <td>2014-06-30</td>\n",
       "      <td>2014-06-30</td>\n",
       "      <td>NaT</td>\n",
       "      <td>-unknown-</td>\n",
       "      <td>32.0</td>\n",
       "      <td>basic</td>\n",
       "      <td>0</td>\n",
       "      <td>en</td>\n",
       "      <td>direct</td>\n",
       "      <td>direct</td>\n",
       "      <td>untracked</td>\n",
       "      <td>Web</td>\n",
       "      <td>Mac Desktop</td>\n",
       "      <td>Firefox</td>\n",
       "      <td>NDF</td>\n",
       "    </tr>\n",
       "    <tr>\n",
       "      <th>73813</th>\n",
       "      <td>jh95kwisub</td>\n",
       "      <td>2014-06-30</td>\n",
       "      <td>2014-06-30</td>\n",
       "      <td>NaT</td>\n",
       "      <td>-unknown-</td>\n",
       "      <td>NaN</td>\n",
       "      <td>basic</td>\n",
       "      <td>25</td>\n",
       "      <td>en</td>\n",
       "      <td>other</td>\n",
       "      <td>other</td>\n",
       "      <td>tracked-other</td>\n",
       "      <td>iOS</td>\n",
       "      <td>iPhone</td>\n",
       "      <td>Mobile Safari</td>\n",
       "      <td>NDF</td>\n",
       "    </tr>\n",
       "    <tr>\n",
       "      <th>73814</th>\n",
       "      <td>nw9fwlyb5f</td>\n",
       "      <td>2014-06-30</td>\n",
       "      <td>2014-06-30</td>\n",
       "      <td>NaT</td>\n",
       "      <td>-unknown-</td>\n",
       "      <td>NaN</td>\n",
       "      <td>basic</td>\n",
       "      <td>25</td>\n",
       "      <td>en</td>\n",
       "      <td>direct</td>\n",
       "      <td>direct</td>\n",
       "      <td>untracked</td>\n",
       "      <td>iOS</td>\n",
       "      <td>iPhone</td>\n",
       "      <td>-unknown-</td>\n",
       "      <td>NDF</td>\n",
       "    </tr>\n",
       "  </tbody>\n",
       "</table>\n",
       "<p>73815 rows × 16 columns</p>\n",
       "</div>"
      ],
      "text/plain": [
       "          user_id date_account_created timestamp_first_active  \\\n",
       "0      d1mm9tcy42           2014-01-01             2014-01-01   \n",
       "1      yo8nz8bqcq           2014-01-01             2014-01-01   \n",
       "2      4grx6yxeby           2014-01-01             2014-01-01   \n",
       "3      ncf87guaf0           2014-01-01             2014-01-01   \n",
       "4      4rvqpxoh3h           2014-01-01             2014-01-01   \n",
       "...           ...                  ...                    ...   \n",
       "73810  zxodksqpep           2014-06-30             2014-06-30   \n",
       "73811  mhewnxesx9           2014-06-30             2014-06-30   \n",
       "73812  6o3arsjbb4           2014-06-30             2014-06-30   \n",
       "73813  jh95kwisub           2014-06-30             2014-06-30   \n",
       "73814  nw9fwlyb5f           2014-06-30             2014-06-30   \n",
       "\n",
       "      date_first_booking     gender   age signup_method  signup_flow language  \\\n",
       "0             2014-01-04       MALE  62.0         basic            0       en   \n",
       "1                    NaT  -unknown-   NaN         basic            0       en   \n",
       "2                    NaT  -unknown-   NaN         basic            0       en   \n",
       "3                    NaT  -unknown-   NaN         basic            0       en   \n",
       "4             2014-01-02  -unknown-   NaN         basic           25       en   \n",
       "...                  ...        ...   ...           ...          ...      ...   \n",
       "73810                NaT       MALE  32.0         basic            0       en   \n",
       "73811                NaT  -unknown-   NaN         basic            0       en   \n",
       "73812                NaT  -unknown-  32.0         basic            0       en   \n",
       "73813                NaT  -unknown-   NaN         basic           25       en   \n",
       "73814                NaT  -unknown-   NaN         basic           25       en   \n",
       "\n",
       "      affiliate_channel affiliate_provider first_affiliate_tracked signup_app  \\\n",
       "0         sem-non-brand             google                     omg        Web   \n",
       "1                direct             direct               untracked        Web   \n",
       "2             sem-brand             google                     omg        Web   \n",
       "3                direct             direct                  linked        Web   \n",
       "4                direct             direct               untracked        iOS   \n",
       "...                 ...                ...                     ...        ...   \n",
       "73810         sem-brand             google                     omg        Web   \n",
       "73811            direct             direct                  linked        Web   \n",
       "73812            direct             direct               untracked        Web   \n",
       "73813             other              other           tracked-other        iOS   \n",
       "73814            direct             direct               untracked        iOS   \n",
       "\n",
       "      first_device_type  first_browser country_destination  \n",
       "0       Windows Desktop         Chrome               other  \n",
       "1           Mac Desktop        Firefox                 NDF  \n",
       "2       Windows Desktop        Firefox                 NDF  \n",
       "3       Windows Desktop         Chrome                 NDF  \n",
       "4                iPhone      -unknown-                  GB  \n",
       "...                 ...            ...                 ...  \n",
       "73810       Mac Desktop         Safari                 NDF  \n",
       "73811   Windows Desktop         Chrome                 NDF  \n",
       "73812       Mac Desktop        Firefox                 NDF  \n",
       "73813            iPhone  Mobile Safari                 NDF  \n",
       "73814            iPhone      -unknown-                 NDF  \n",
       "\n",
       "[73815 rows x 16 columns]"
      ]
     },
     "execution_count": 7,
     "metadata": {},
     "output_type": "execute_result"
    }
   ],
   "source": [
    "df"
   ]
  },
  {
   "cell_type": "markdown",
   "id": "3480ff18-97f2-4bf7-a06d-c5f7913178c5",
   "metadata": {},
   "source": [
    "# EDA"
   ]
  },
  {
   "cell_type": "code",
   "execution_count": 8,
   "id": "01214f51-5dd4-4915-a68d-8431b32c195c",
   "metadata": {},
   "outputs": [
    {
     "name": "stdout",
     "output_type": "stream",
     "text": [
      "<class 'pandas.core.frame.DataFrame'>\n",
      "RangeIndex: 73815 entries, 0 to 73814\n",
      "Data columns (total 16 columns):\n",
      " #   Column                   Non-Null Count  Dtype         \n",
      "---  ------                   --------------  -----         \n",
      " 0   user_id                  73815 non-null  object        \n",
      " 1   date_account_created     73815 non-null  datetime64[ns]\n",
      " 2   timestamp_first_active   73815 non-null  datetime64[ns]\n",
      " 3   date_first_booking       28774 non-null  datetime64[ns]\n",
      " 4   gender                   73815 non-null  object        \n",
      " 5   age                      41567 non-null  float64       \n",
      " 6   signup_method            73815 non-null  object        \n",
      " 7   signup_flow              73815 non-null  int64         \n",
      " 8   language                 73815 non-null  object        \n",
      " 9   affiliate_channel        73815 non-null  object        \n",
      " 10  affiliate_provider       73815 non-null  object        \n",
      " 11  first_affiliate_tracked  73513 non-null  object        \n",
      " 12  signup_app               73815 non-null  object        \n",
      " 13  first_device_type        73815 non-null  object        \n",
      " 14  first_browser            73815 non-null  object        \n",
      " 15  country_destination      73815 non-null  object        \n",
      "dtypes: datetime64[ns](3), float64(1), int64(1), object(11)\n",
      "memory usage: 9.0+ MB\n"
     ]
    }
   ],
   "source": [
    "df.info()"
   ]
  },
  {
   "cell_type": "code",
   "execution_count": 9,
   "id": "d64d341c-114e-47cf-89ff-2f486979239c",
   "metadata": {},
   "outputs": [
    {
     "data": {
      "text/plain": [
       "user_id                        0\n",
       "date_account_created           0\n",
       "timestamp_first_active         0\n",
       "date_first_booking         45041\n",
       "gender                         0\n",
       "age                        32248\n",
       "signup_method                  0\n",
       "signup_flow                    0\n",
       "language                       0\n",
       "affiliate_channel              0\n",
       "affiliate_provider             0\n",
       "first_affiliate_tracked      302\n",
       "signup_app                     0\n",
       "first_device_type              0\n",
       "first_browser                  0\n",
       "country_destination            0\n",
       "dtype: int64"
      ]
     },
     "execution_count": 9,
     "metadata": {},
     "output_type": "execute_result"
    }
   ],
   "source": [
    "df.isnull().sum()"
   ]
  },
  {
   "cell_type": "code",
   "execution_count": 10,
   "id": "b8a91e1f-7cca-4bc2-8614-3ef6fafc0761",
   "metadata": {},
   "outputs": [
    {
     "data": {
      "text/html": [
       "<div>\n",
       "<style scoped>\n",
       "    .dataframe tbody tr th:only-of-type {\n",
       "        vertical-align: middle;\n",
       "    }\n",
       "\n",
       "    .dataframe tbody tr th {\n",
       "        vertical-align: top;\n",
       "    }\n",
       "\n",
       "    .dataframe thead th {\n",
       "        text-align: right;\n",
       "    }\n",
       "</style>\n",
       "<table border=\"1\" class=\"dataframe\">\n",
       "  <thead>\n",
       "    <tr style=\"text-align: right;\">\n",
       "      <th></th>\n",
       "      <th>age</th>\n",
       "      <th>signup_flow</th>\n",
       "    </tr>\n",
       "  </thead>\n",
       "  <tbody>\n",
       "    <tr>\n",
       "      <th>count</th>\n",
       "      <td>41567.000000</td>\n",
       "      <td>73815.000000</td>\n",
       "    </tr>\n",
       "    <tr>\n",
       "      <th>mean</th>\n",
       "      <td>42.414993</td>\n",
       "      <td>4.856208</td>\n",
       "    </tr>\n",
       "    <tr>\n",
       "      <th>std</th>\n",
       "      <td>111.201954</td>\n",
       "      <td>9.339480</td>\n",
       "    </tr>\n",
       "    <tr>\n",
       "      <th>min</th>\n",
       "      <td>1.000000</td>\n",
       "      <td>0.000000</td>\n",
       "    </tr>\n",
       "    <tr>\n",
       "      <th>25%</th>\n",
       "      <td>27.000000</td>\n",
       "      <td>0.000000</td>\n",
       "    </tr>\n",
       "    <tr>\n",
       "      <th>50%</th>\n",
       "      <td>32.000000</td>\n",
       "      <td>0.000000</td>\n",
       "    </tr>\n",
       "    <tr>\n",
       "      <th>75%</th>\n",
       "      <td>41.000000</td>\n",
       "      <td>0.000000</td>\n",
       "    </tr>\n",
       "    <tr>\n",
       "      <th>max</th>\n",
       "      <td>2014.000000</td>\n",
       "      <td>25.000000</td>\n",
       "    </tr>\n",
       "  </tbody>\n",
       "</table>\n",
       "</div>"
      ],
      "text/plain": [
       "                age   signup_flow\n",
       "count  41567.000000  73815.000000\n",
       "mean      42.414993      4.856208\n",
       "std      111.201954      9.339480\n",
       "min        1.000000      0.000000\n",
       "25%       27.000000      0.000000\n",
       "50%       32.000000      0.000000\n",
       "75%       41.000000      0.000000\n",
       "max     2014.000000     25.000000"
      ]
     },
     "execution_count": 10,
     "metadata": {},
     "output_type": "execute_result"
    }
   ],
   "source": [
    "df.describe()"
   ]
  },
  {
   "cell_type": "code",
   "execution_count": 11,
   "id": "bd78e6b9-5e44-42ef-9b8c-12ed36d544a1",
   "metadata": {},
   "outputs": [
    {
     "data": {
      "text/html": [
       "<div>\n",
       "<style scoped>\n",
       "    .dataframe tbody tr th:only-of-type {\n",
       "        vertical-align: middle;\n",
       "    }\n",
       "\n",
       "    .dataframe tbody tr th {\n",
       "        vertical-align: top;\n",
       "    }\n",
       "\n",
       "    .dataframe thead th {\n",
       "        text-align: right;\n",
       "    }\n",
       "</style>\n",
       "<table border=\"1\" class=\"dataframe\">\n",
       "  <thead>\n",
       "    <tr style=\"text-align: right;\">\n",
       "      <th></th>\n",
       "      <th>user_id</th>\n",
       "      <th>gender</th>\n",
       "      <th>signup_method</th>\n",
       "      <th>language</th>\n",
       "      <th>affiliate_channel</th>\n",
       "      <th>affiliate_provider</th>\n",
       "      <th>first_affiliate_tracked</th>\n",
       "      <th>signup_app</th>\n",
       "      <th>first_device_type</th>\n",
       "      <th>first_browser</th>\n",
       "      <th>country_destination</th>\n",
       "    </tr>\n",
       "  </thead>\n",
       "  <tbody>\n",
       "    <tr>\n",
       "      <th>count</th>\n",
       "      <td>73815</td>\n",
       "      <td>73815</td>\n",
       "      <td>73815</td>\n",
       "      <td>73815</td>\n",
       "      <td>73815</td>\n",
       "      <td>73815</td>\n",
       "      <td>73513</td>\n",
       "      <td>73815</td>\n",
       "      <td>73815</td>\n",
       "      <td>73815</td>\n",
       "      <td>73815</td>\n",
       "    </tr>\n",
       "    <tr>\n",
       "      <th>unique</th>\n",
       "      <td>73815</td>\n",
       "      <td>4</td>\n",
       "      <td>3</td>\n",
       "      <td>24</td>\n",
       "      <td>8</td>\n",
       "      <td>17</td>\n",
       "      <td>7</td>\n",
       "      <td>4</td>\n",
       "      <td>9</td>\n",
       "      <td>35</td>\n",
       "      <td>12</td>\n",
       "    </tr>\n",
       "    <tr>\n",
       "      <th>top</th>\n",
       "      <td>d1mm9tcy42</td>\n",
       "      <td>-unknown-</td>\n",
       "      <td>basic</td>\n",
       "      <td>en</td>\n",
       "      <td>direct</td>\n",
       "      <td>direct</td>\n",
       "      <td>untracked</td>\n",
       "      <td>Web</td>\n",
       "      <td>Mac Desktop</td>\n",
       "      <td>Chrome</td>\n",
       "      <td>NDF</td>\n",
       "    </tr>\n",
       "    <tr>\n",
       "      <th>freq</th>\n",
       "      <td>1</td>\n",
       "      <td>37788</td>\n",
       "      <td>55135</td>\n",
       "      <td>71100</td>\n",
       "      <td>46814</td>\n",
       "      <td>46814</td>\n",
       "      <td>39049</td>\n",
       "      <td>57016</td>\n",
       "      <td>28029</td>\n",
       "      <td>22662</td>\n",
       "      <td>45041</td>\n",
       "    </tr>\n",
       "  </tbody>\n",
       "</table>\n",
       "</div>"
      ],
      "text/plain": [
       "           user_id     gender signup_method language affiliate_channel  \\\n",
       "count        73815      73815         73815    73815             73815   \n",
       "unique       73815          4             3       24                 8   \n",
       "top     d1mm9tcy42  -unknown-         basic       en            direct   \n",
       "freq             1      37788         55135    71100             46814   \n",
       "\n",
       "       affiliate_provider first_affiliate_tracked signup_app  \\\n",
       "count               73815                   73513      73815   \n",
       "unique                 17                       7          4   \n",
       "top                direct               untracked        Web   \n",
       "freq                46814                   39049      57016   \n",
       "\n",
       "       first_device_type first_browser country_destination  \n",
       "count              73815         73815               73815  \n",
       "unique                 9            35                  12  \n",
       "top          Mac Desktop        Chrome                 NDF  \n",
       "freq               28029         22662               45041  "
      ]
     },
     "execution_count": 11,
     "metadata": {},
     "output_type": "execute_result"
    }
   ],
   "source": [
    "df.describe(include='object')"
   ]
  },
  {
   "cell_type": "markdown",
   "id": "5b1a4136-82e0-4b6b-82d4-04dde4e8ba68",
   "metadata": {},
   "source": [
    "- 클래스 불균형을 고려해야 됨"
   ]
  },
  {
   "cell_type": "code",
   "execution_count": 12,
   "id": "8a9fb3be-d686-4d5e-b9f1-779463a8e6a5",
   "metadata": {},
   "outputs": [],
   "source": [
    "# counts = df['country_destination'].value_counts()\n",
    "# idx = df['country_destination'].value_counts().index\n",
    "\n",
    "# sns.barplot(x=idx,  y=counts, hue=idx)\n",
    "\n",
    "# plt.title(\"국가별 예약 빈도\")\n",
    "# plt.show()"
   ]
  },
  {
   "cell_type": "code",
   "execution_count": 13,
   "id": "ce058424-3ff7-4a77-ac02-c79e8c01a863",
   "metadata": {},
   "outputs": [],
   "source": [
    "# order = df['country_destination'].value_counts().index\n",
    "# object_col = df.describe(include='object').columns[1:]\n",
    "\n",
    "# for col in object_col:     \n",
    "#     stacked_df = df.groupby([col, 'country_destination']).size().unstack(fill_value=0)[order]\n",
    "#     ax = stacked_df.plot(kind='bar', stacked=True, cmap='tab20')\n",
    "#     ax.legend(title='Country Destination', bbox_to_anchor=(1.05, 1), loc='upper left')\n",
    "#     plt.title(col)\n",
    "    \n",
    "# plt.tight_layout()\n",
    "# plt.show()"
   ]
  },
  {
   "cell_type": "markdown",
   "id": "769ac126-4aed-41f9-a95c-f619b3eaedd4",
   "metadata": {},
   "source": [
    "# session 변수 고려"
   ]
  },
  {
   "cell_type": "code",
   "execution_count": 14,
   "id": "994a5e3b-c73a-4eec-a5a3-acaf46918371",
   "metadata": {},
   "outputs": [],
   "source": [
    "# 한 칸씩 위로 당겨오기\n",
    "sessions['secs_elapsed'] = sessions['secs_elapsed'].shift(-1)\n",
    "\n",
    "# 유저별 마지막 elapsed time은 측정되지 않았으므로 nan\n",
    "last_order = sessions.groupby('user_id').tail(1).index\n",
    "sessions.loc[last_order, 'secs_elapsed'] = np.NaN"
   ]
  },
  {
   "cell_type": "code",
   "execution_count": 15,
   "id": "fc4bca12-6e94-4d21-83c9-a5976d77f787",
   "metadata": {},
   "outputs": [
    {
     "data": {
      "text/html": [
       "<div>\n",
       "<style scoped>\n",
       "    .dataframe tbody tr th:only-of-type {\n",
       "        vertical-align: middle;\n",
       "    }\n",
       "\n",
       "    .dataframe tbody tr th {\n",
       "        vertical-align: top;\n",
       "    }\n",
       "\n",
       "    .dataframe thead th {\n",
       "        text-align: right;\n",
       "    }\n",
       "</style>\n",
       "<table border=\"1\" class=\"dataframe\">\n",
       "  <thead>\n",
       "    <tr style=\"text-align: right;\">\n",
       "      <th></th>\n",
       "      <th>user_id</th>\n",
       "      <th>user_flow_counts</th>\n",
       "    </tr>\n",
       "  </thead>\n",
       "  <tbody>\n",
       "    <tr>\n",
       "      <th>0</th>\n",
       "      <td>00023iyk9l</td>\n",
       "      <td>40</td>\n",
       "    </tr>\n",
       "    <tr>\n",
       "      <th>1</th>\n",
       "      <td>0010k6l0om</td>\n",
       "      <td>63</td>\n",
       "    </tr>\n",
       "    <tr>\n",
       "      <th>2</th>\n",
       "      <td>001wyh0pz8</td>\n",
       "      <td>90</td>\n",
       "    </tr>\n",
       "    <tr>\n",
       "      <th>3</th>\n",
       "      <td>0028jgx1x1</td>\n",
       "      <td>31</td>\n",
       "    </tr>\n",
       "    <tr>\n",
       "      <th>4</th>\n",
       "      <td>002qnbzfs5</td>\n",
       "      <td>789</td>\n",
       "    </tr>\n",
       "    <tr>\n",
       "      <th>...</th>\n",
       "      <td>...</td>\n",
       "      <td>...</td>\n",
       "    </tr>\n",
       "    <tr>\n",
       "      <th>135478</th>\n",
       "      <td>zzxox7jnrx</td>\n",
       "      <td>89</td>\n",
       "    </tr>\n",
       "    <tr>\n",
       "      <th>135479</th>\n",
       "      <td>zzy7t0y9cm</td>\n",
       "      <td>8</td>\n",
       "    </tr>\n",
       "    <tr>\n",
       "      <th>135480</th>\n",
       "      <td>zzysuoqg6x</td>\n",
       "      <td>3</td>\n",
       "    </tr>\n",
       "    <tr>\n",
       "      <th>135481</th>\n",
       "      <td>zzywmcn0jv</td>\n",
       "      <td>51</td>\n",
       "    </tr>\n",
       "    <tr>\n",
       "      <th>135482</th>\n",
       "      <td>zzzlylp57e</td>\n",
       "      <td>74</td>\n",
       "    </tr>\n",
       "  </tbody>\n",
       "</table>\n",
       "<p>135483 rows × 2 columns</p>\n",
       "</div>"
      ],
      "text/plain": [
       "           user_id  user_flow_counts\n",
       "0       00023iyk9l                40\n",
       "1       0010k6l0om                63\n",
       "2       001wyh0pz8                90\n",
       "3       0028jgx1x1                31\n",
       "4       002qnbzfs5               789\n",
       "...            ...               ...\n",
       "135478  zzxox7jnrx                89\n",
       "135479  zzy7t0y9cm                 8\n",
       "135480  zzysuoqg6x                 3\n",
       "135481  zzywmcn0jv                51\n",
       "135482  zzzlylp57e                74\n",
       "\n",
       "[135483 rows x 2 columns]"
      ]
     },
     "execution_count": 15,
     "metadata": {},
     "output_type": "execute_result"
    }
   ],
   "source": [
    "sessions_flow_counts = sessions.groupby('user_id')['user_flow'].size().reset_index()\n",
    "sessions_flow_counts.columns = ['user_id', 'user_flow_counts']\n",
    "sessions_flow_counts"
   ]
  },
  {
   "cell_type": "code",
   "execution_count": 16,
   "id": "64cbad85-dc85-4463-bbbc-5d3ecf3907b8",
   "metadata": {},
   "outputs": [],
   "source": [
    "# train의 user_id가 sessions의 user_id에 포함되어 있는지 판단\n",
    "mask = sessions['user_id'].isin(train['user_id'])\n",
    "\n",
    "## sessions에 포함된 user로 구성 (중복 x)\n",
    "new_sessions = sessions[mask]\n",
    "new_sessions.reset_index(drop=True, inplace=True)"
   ]
  },
  {
   "cell_type": "code",
   "execution_count": 17,
   "id": "6abdf811-77e8-4e3b-b4a1-0fbc740683c9",
   "metadata": {},
   "outputs": [
    {
     "data": {
      "text/html": [
       "<div>\n",
       "<style scoped>\n",
       "    .dataframe tbody tr th:only-of-type {\n",
       "        vertical-align: middle;\n",
       "    }\n",
       "\n",
       "    .dataframe tbody tr th {\n",
       "        vertical-align: top;\n",
       "    }\n",
       "\n",
       "    .dataframe thead th {\n",
       "        text-align: right;\n",
       "    }\n",
       "</style>\n",
       "<table border=\"1\" class=\"dataframe\">\n",
       "  <thead>\n",
       "    <tr style=\"text-align: right;\">\n",
       "      <th></th>\n",
       "      <th>user_id</th>\n",
       "      <th>user_flow_counts</th>\n",
       "    </tr>\n",
       "  </thead>\n",
       "  <tbody>\n",
       "    <tr>\n",
       "      <th>0</th>\n",
       "      <td>00023iyk9l</td>\n",
       "      <td>40</td>\n",
       "    </tr>\n",
       "    <tr>\n",
       "      <th>1</th>\n",
       "      <td>001wyh0pz8</td>\n",
       "      <td>90</td>\n",
       "    </tr>\n",
       "    <tr>\n",
       "      <th>2</th>\n",
       "      <td>0028jgx1x1</td>\n",
       "      <td>31</td>\n",
       "    </tr>\n",
       "    <tr>\n",
       "      <th>3</th>\n",
       "      <td>002qnbzfs5</td>\n",
       "      <td>789</td>\n",
       "    </tr>\n",
       "    <tr>\n",
       "      <th>4</th>\n",
       "      <td>0035hobuyj</td>\n",
       "      <td>489</td>\n",
       "    </tr>\n",
       "    <tr>\n",
       "      <th>...</th>\n",
       "      <td>...</td>\n",
       "      <td>...</td>\n",
       "    </tr>\n",
       "    <tr>\n",
       "      <th>73810</th>\n",
       "      <td>zzx5wp3lqu</td>\n",
       "      <td>52</td>\n",
       "    </tr>\n",
       "    <tr>\n",
       "      <th>73811</th>\n",
       "      <td>zzy7t0y9cm</td>\n",
       "      <td>8</td>\n",
       "    </tr>\n",
       "    <tr>\n",
       "      <th>73812</th>\n",
       "      <td>zzysuoqg6x</td>\n",
       "      <td>3</td>\n",
       "    </tr>\n",
       "    <tr>\n",
       "      <th>73813</th>\n",
       "      <td>zzywmcn0jv</td>\n",
       "      <td>51</td>\n",
       "    </tr>\n",
       "    <tr>\n",
       "      <th>73814</th>\n",
       "      <td>zzzlylp57e</td>\n",
       "      <td>74</td>\n",
       "    </tr>\n",
       "  </tbody>\n",
       "</table>\n",
       "<p>73815 rows × 2 columns</p>\n",
       "</div>"
      ],
      "text/plain": [
       "          user_id  user_flow_counts\n",
       "0      00023iyk9l                40\n",
       "1      001wyh0pz8                90\n",
       "2      0028jgx1x1                31\n",
       "3      002qnbzfs5               789\n",
       "4      0035hobuyj               489\n",
       "...           ...               ...\n",
       "73810  zzx5wp3lqu                52\n",
       "73811  zzy7t0y9cm                 8\n",
       "73812  zzysuoqg6x                 3\n",
       "73813  zzywmcn0jv                51\n",
       "73814  zzzlylp57e                74\n",
       "\n",
       "[73815 rows x 2 columns]"
      ]
     },
     "execution_count": 17,
     "metadata": {},
     "output_type": "execute_result"
    }
   ],
   "source": [
    "new_sessions_flow_counts = new_sessions.groupby('user_id')['user_flow'].size().reset_index()\n",
    "new_sessions_flow_counts.columns = ['user_id', 'user_flow_counts']\n",
    "new_sessions_flow_counts"
   ]
  },
  {
   "cell_type": "markdown",
   "id": "525d9fd0-5fad-4dab-b3ee-22315100ae1a",
   "metadata": {},
   "source": [
    "## 데이터 전처리"
   ]
  },
  {
   "cell_type": "code",
   "execution_count": 18,
   "id": "750cdf4b-a2b4-421b-8f1b-a57f377aa250",
   "metadata": {},
   "outputs": [
    {
     "data": {
      "text/plain": [
       "user_id                        0\n",
       "date_account_created           0\n",
       "timestamp_first_active         0\n",
       "date_first_booking         45041\n",
       "gender                         0\n",
       "age                        32248\n",
       "signup_method                  0\n",
       "signup_flow                    0\n",
       "language                       0\n",
       "affiliate_channel              0\n",
       "affiliate_provider             0\n",
       "first_affiliate_tracked      302\n",
       "signup_app                     0\n",
       "first_device_type              0\n",
       "first_browser                  0\n",
       "country_destination            0\n",
       "dtype: int64"
      ]
     },
     "execution_count": 18,
     "metadata": {},
     "output_type": "execute_result"
    }
   ],
   "source": [
    "df.isnull().sum()"
   ]
  },
  {
   "cell_type": "markdown",
   "id": "c7e52bea-e941-4b1d-ac9f-f356495c2ece",
   "metadata": {},
   "source": [
    "### age 전처리"
   ]
  },
  {
   "cell_type": "code",
   "execution_count": 19,
   "id": "9c0f1898-e302-4a2f-8a1f-c3aeb9774cd5",
   "metadata": {},
   "outputs": [
    {
     "data": {
      "text/plain": [
       "count    41567.000000\n",
       "mean        42.414993\n",
       "std        111.201954\n",
       "min          1.000000\n",
       "25%         27.000000\n",
       "50%         32.000000\n",
       "75%         41.000000\n",
       "max       2014.000000\n",
       "Name: age, dtype: float64"
      ]
     },
     "execution_count": 19,
     "metadata": {},
     "output_type": "execute_result"
    }
   ],
   "source": [
    "## 전처리 전\n",
    "df['age'].describe()"
   ]
  },
  {
   "cell_type": "markdown",
   "id": "a8f4cadb-9f9f-4b91-b6cf-cfd282e22156",
   "metadata": {},
   "source": [
    "- test 데이터에도 결측치가 존재하기 때문에 age를 제거하는 방식은 알맞지 않다. \n",
    "- 따라서 이상치도 최빈값으로 대체."
   ]
  },
  {
   "cell_type": "code",
   "execution_count": 20,
   "id": "66a9c6f7-f58a-4fa4-9c31-e29c39d6336e",
   "metadata": {},
   "outputs": [],
   "source": [
    "# 1000이상인 값은 태어난 년도로 간주하여 계정 생성연도를 추출하여 나이를 채운다\n",
    "current_year = pd.to_datetime(df['date_account_created']).dt.year\n",
    "birth_year = current_year - df['age']\n",
    "df['age'] = np.where(df['age'] > 1000, np.where(birth_year > 0, birth_year, 0), df['age'])\n",
    "\n",
    "## 결측치는 최빈값으로 대체\n",
    "mode_age = df['age'].mode()[0]  \n",
    "df['age'].fillna(mode_age, inplace=True)  \n",
    "\n",
    "## 18세 초과는 최빈값\n",
    "df['age'] = df['age'].apply(lambda x: mode_age if x > 100 else x)\n",
    "\n",
    "## 100세 초과는 최빈값\n",
    "df['age'] = df['age'].apply(lambda x: mode_age if x < 18 else x)"
   ]
  },
  {
   "cell_type": "code",
   "execution_count": 21,
   "id": "593bd783-bc9d-4834-8af0-945f3374a7fb",
   "metadata": {},
   "outputs": [
    {
     "data": {
      "text/plain": [
       "count    73815.000000\n",
       "mean        31.563056\n",
       "std          9.593033\n",
       "min         18.000000\n",
       "25%         27.000000\n",
       "50%         27.000000\n",
       "75%         33.000000\n",
       "max        100.000000\n",
       "Name: age, dtype: float64"
      ]
     },
     "execution_count": 21,
     "metadata": {},
     "output_type": "execute_result"
    }
   ],
   "source": [
    "## 전처리 후\n",
    "df['age'].describe()"
   ]
  },
  {
   "cell_type": "code",
   "execution_count": 22,
   "id": "7a01bbd1-63ac-4582-96bd-968c10516bcd",
   "metadata": {},
   "outputs": [
    {
     "name": "stdout",
     "output_type": "stream",
     "text": [
      "0\n",
      "0\n"
     ]
    }
   ],
   "source": [
    "print(len(df[df['age'] > 100]))\n",
    "print(len(df[df['age'] < 18]))"
   ]
  },
  {
   "cell_type": "code",
   "execution_count": null,
   "id": "7f1d25aa-c429-4424-b7b0-b019007c71d0",
   "metadata": {},
   "outputs": [],
   "source": [
    "# counts = new_df['age'].value_counts()\n",
    "# idx = new_df['age'].value_counts().index\n",
    "\n",
    "# plt.figure(figsize=(10, 6))\n",
    "\n",
    "# sns.barplot(x=idx,  y=counts)\n",
    "\n",
    "# plt.title(\"나이 분포 -- 전처리 0\")\n",
    "# plt.xticks(rotation=90, ha='right')\n",
    "# plt.show()"
   ]
  },
  {
   "cell_type": "code",
   "execution_count": 24,
   "id": "d81ffd81-bf09-4e2b-a1ad-7e263500f749",
   "metadata": {},
   "outputs": [
    {
     "data": {
      "image/png": "[encoded data removed]",
      "text/plain": [
       "<Figure size 1200x800 with 1 Axes>"
      ]
     },
     "metadata": {},
     "output_type": "display_data"
    }
   ],
   "source": [
    "###### \n",
    "month = pd.to_datetime(df['date_account_created']).dt.month\n",
    "country_destination = df['country_destination']\n",
    "\n",
    "# DataFrame 생성\n",
    "data = pd.DataFrame({'Month': month, 'Country': country_destination})\n",
    "\n",
    "# 목적 국가와 월별 빈도 계산\n",
    "country_month_counts = data.groupby(['Country', 'Month']).size().reset_index(name='Frequency')\n",
    "\n",
    "# 월별 그래프 그리기\n",
    "plt.figure(figsize=(12, 8))\n",
    "sns.lineplot(data=country_month_counts, x='Month', y='Frequency', hue='Country', marker='o', markersize=8)\n",
    "plt.title('가입 후 월별 목적지 국가')\n",
    "plt.xlabel('Month')\n",
    "plt.ylabel('Frequency')\n",
    "plt.xticks(range(1, 7))  # 1월부터 6월\n",
    "plt.legend(title='Country', bbox_to_anchor=(1.05, 1), loc='upper left')\n",
    "plt.grid(True)\n",
    "plt.show()"
   ]
  },
  {
   "cell_type": "code",
   "execution_count": 25,
   "id": "fbca018f-99a4-45d7-b2fa-461b7b582446",
   "metadata": {},
   "outputs": [
    {
     "data": {
      "image/png": "[encoded data removed]",
      "text/plain": [
       "<Figure size 1200x800 with 1 Axes>"
      ]
     },
     "metadata": {},
     "output_type": "display_data"
    }
   ],
   "source": [
    "# 데이터 준비\n",
    "month = pd.to_datetime(df['date_account_created']).dt.month\n",
    "country_destination = df['country_destination']\n",
    "\n",
    "# DataFrame 생성\n",
    "data = pd.DataFrame({'Month': month, 'Country': country_destination})\n",
    "\n",
    "# NDF와 US 국가 제외\n",
    "data = data[~data['Country'].isin(['NDF', 'US'])]\n",
    "\n",
    "# 목적 국가와 월별 빈도 계산\n",
    "country_month_counts = data.groupby(['Country', 'Month']).size().reset_index(name='Frequency')\n",
    "\n",
    "# 월별 그래프 그리기\n",
    "plt.figure(figsize=(12, 8))\n",
    "sns.lineplot(data=country_month_counts, x='Month', y='Frequency', hue='Country', marker='o', markersize=8)\n",
    "plt.title('가입 후 월별 목적지 국가 (NDF와 US 제외)')\n",
    "plt.xlabel('Month')\n",
    "plt.ylabel('Frequency')\n",
    "plt.xticks(range(1, 7))  # 1월부터 6월\n",
    "plt.legend(title='Country', bbox_to_anchor=(1.05, 1), loc='upper left')\n",
    "plt.grid(True)\n",
    "plt.show()"
   ]
  },
  {
   "cell_type": "markdown",
   "id": "4895103b-68cb-4625-88be-9ee97b41cb9f",
   "metadata": {},
   "source": [
    "### 데이터 클러스터링 "
   ]
  },
  {
   "cell_type": "code",
   "execution_count": 26,
   "id": "f3f6aa70-1a79-4b1d-8c5e-0a6f50c774f8",
   "metadata": {},
   "outputs": [],
   "source": [
    "from sklearn.preprocessing import StandardScaler, LabelEncoder, MinMaxScaler\n",
    "le = LabelEncoder()\n",
    "ss = StandardScaler()"
   ]
  },
  {
   "cell_type": "code",
   "execution_count": 27,
   "id": "d792d5d8-bbb8-4384-ab5e-0b00b2ca0737",
   "metadata": {},
   "outputs": [],
   "source": [
    "ss_new_df = df.copy()\n",
    "\n",
    "## 불필요한 데이터 및 정답 데이터는 제거\n",
    "ss_new_df = ss_new_df.drop(columns=['user_id','date_account_created', 'timestamp_first_active', 'date_first_booking', 'country_destination'])\n",
    "ss_new_df['first_affiliate_tracked'].fillna(\"unknown\",inplace=True)\n",
    "\n",
    "cols = ss_new_df.select_dtypes(exclude='object').columns\n",
    "ss_new_df[cols] = ss.fit_transform(ss_new_df[cols])"
   ]
  },
  {
   "cell_type": "code",
   "execution_count": 28,
   "id": "967ade4c-d67a-4193-a116-bb6f75fd0296",
   "metadata": {},
   "outputs": [
    {
     "name": "stdout",
     "output_type": "stream",
     "text": [
      "Categorical columns           : ['gender', 'signup_method', 'language', 'affiliate_channel', 'affiliate_provider', 'first_affiliate_tracked', 'signup_app', 'first_device_type', 'first_browser']\n",
      "Categorical columns position  : [0, 2, 4, 5, 6, 7, 8, 9, 10]\n"
     ]
    }
   ],
   "source": [
    "# getting categorical columns and their indices.\n",
    "catColumnsPos = [ss_new_df.columns.get_loc(col) for col in list(ss_new_df.select_dtypes('object').columns)]\n",
    "print('Categorical columns           : {}'.format(list(ss_new_df.select_dtypes('object').columns)))\n",
    "print('Categorical columns position  : {}'.format(catColumnsPos))"
   ]
  },
  {
   "cell_type": "code",
   "execution_count": 30,
   "id": "9a3dd3b2-c6ba-4ea5-b7f1-913a59ad7a5f",
   "metadata": {},
   "outputs": [],
   "source": [
    "from kmodes.kprototypes import KPrototypes\n",
    "\n",
    "dfMatrix = ss_new_df.to_numpy()"
   ]
  },
  {
   "cell_type": "code",
   "execution_count": 31,
   "id": "dbe36a25-122b-4332-b0e4-583e67208650",
   "metadata": {},
   "outputs": [
    {
     "name": "stdout",
     "output_type": "stream",
     "text": [
      "Cluster initiation: [0 0 0 ... 0 1 1]\n",
      "Cluster initiation: [2 0 0 ... 0 1 1]\n",
      "Cluster initiation: [0 1 3 ... 1 2 2]\n",
      "Cluster initiation: [2 4 3 ... 4 0 0]\n"
     ]
    }
   ],
   "source": [
    "cost = []\n",
    "for x in range(2,6):\n",
    "    kprototype = KPrototypes(n_jobs = -1, n_clusters = x, init = 'Huang', random_state = random_seed)\n",
    "    clusters = kprototype.fit_predict(dfMatrix, categorical = catColumnsPos)\n",
    "    cost.append(kprototype.cost_)\n",
    "    print('Cluster initiation: {}'.format(clusters))"
   ]
  },
  {
   "cell_type": "code",
   "execution_count": 32,
   "id": "258a1b96-fa13-4ecd-8364-e9b52c53804f",
   "metadata": {},
   "outputs": [],
   "source": [
    "df_cost = pd.DataFrame()\n",
    "df_cost['clusters'] = range(2, 6)\n",
    "df_cost['cost'] = cost"
   ]
  },
  {
   "cell_type": "code",
   "execution_count": 33,
   "id": "0c219415-710d-4d27-866f-0003ca8d2895",
   "metadata": {},
   "outputs": [
    {
     "data": {
      "image/png": "[encoded data removed]",
      "text/plain": [
       "<Figure size 640x480 with 1 Axes>"
      ]
     },
     "metadata": {},
     "output_type": "display_data"
    }
   ],
   "source": [
    "# elbow method \n",
    "sns.lineplot(x='clusters', y= 'cost', data=df_cost)\n",
    "plt.title(\"Elbow _ cluster\")\n",
    "plt.show()"
   ]
  },
  {
   "cell_type": "code",
   "execution_count": 42,
   "id": "00448976-ee02-43c8-823f-f9c6544db188",
   "metadata": {},
   "outputs": [],
   "source": [
    "# Kmeans tuned\n",
    "kprototype = KPrototypes(n_jobs = -1, n_clusters = 4, init = 'Huang', random_state = random_seed)\n",
    "clusters = kprototype.fit_predict(dfMatrix, categorical = catColumnsPos)"
   ]
  },
  {
   "cell_type": "code",
   "execution_count": 43,
   "id": "e31b4e24-cb27-485c-8b3c-dce73b686336",
   "metadata": {},
   "outputs": [],
   "source": [
    "ss_new_df['clusters'] = clusters"
   ]
  },
  {
   "cell_type": "code",
   "execution_count": 44,
   "id": "a13b5c30-a6ef-46b4-8547-ed3d1e54d437",
   "metadata": {},
   "outputs": [],
   "source": [
    "df['clusters'] = clusters"
   ]
  },
  {
   "cell_type": "code",
   "execution_count": 37,
   "id": "bb9f02c6-cdf8-45c5-8d91-7c7750a9901f",
   "metadata": {},
   "outputs": [],
   "source": [
    "# counts = new_df['country_destination'].value_counts()\n",
    "# idx = new_df['country_destination'].value_counts().index\n",
    "\n",
    "# sns.barplot(x=idx,  y=counts, hue=idx)\n",
    "\n",
    "# plt.title(\"국가별 예약 빈도\")\n",
    "# plt.show()"
   ]
  },
  {
   "cell_type": "code",
   "execution_count": null,
   "id": "3ecd159f-28d1-4f24-acd2-0e9ce9030232",
   "metadata": {},
   "outputs": [],
   "source": [
    "# plt.figure(figsize=(12,6))\n",
    "\n",
    "# sns.scatterplot(x ='age',\n",
    "#                     y = 'signup_flow',\n",
    "#                     data = ss_new_df,\n",
    "#                     hue='clusters',\n",
    "#                    palette = 'Set2')\n",
    "# plt.show()"
   ]
  },
  {
   "cell_type": "code",
   "execution_count": 45,
   "id": "cac9a057-eaf9-4ab6-bc2b-30be1cb0419f",
   "metadata": {},
   "outputs": [
    {
     "data": {
      "image/png": "[encoded data removed]",
      "text/plain": [
       "<Figure size 640x480 with 1 Axes>"
      ]
     },
     "metadata": {},
     "output_type": "display_data"
    }
   ],
   "source": [
    "sns.countplot(data=df, x='gender', hue='clusters')\n",
    "plt.xticks(rotation=45) \n",
    "plt.show()"
   ]
  },
  {
   "cell_type": "code",
   "execution_count": 46,
   "id": "4c578324-5cd1-430d-bb32-b1f0af65fc59",
   "metadata": {},
   "outputs": [],
   "source": [
    "# order = new_df['country_destination'].value_counts().index\n",
    "# object_col = new_df.describe(include='object').columns[1:]\n",
    "\n",
    "# for col in object_col:     \n",
    "#     stacked_df = new_df.groupby([col, 'country_destination']).size().unstack(fill_value=0)[order]\n",
    "#     ax = stacked_df.plot(kind='bar', stacked=True, cmap='tab20')\n",
    "#     ax.legend(title='Country Destination', bbox_to_anchor=(1.05, 1), loc='upper left')\n",
    "#     plt.title(col)\n",
    "    \n",
    "# plt.tight_layout()\n",
    "# plt.show()"
   ]
  },
  {
   "cell_type": "code",
   "execution_count": 47,
   "id": "28d8a115-b9d5-44c9-b39e-b944058ba3f6",
   "metadata": {},
   "outputs": [
    {
     "data": {
      "text/plain": [
       "user_id                        0\n",
       "date_account_created           0\n",
       "timestamp_first_active         0\n",
       "date_first_booking         45041\n",
       "gender                         0\n",
       "age                            0\n",
       "signup_method                  0\n",
       "signup_flow                    0\n",
       "language                       0\n",
       "affiliate_channel              0\n",
       "affiliate_provider             0\n",
       "first_affiliate_tracked      302\n",
       "signup_app                     0\n",
       "first_device_type              0\n",
       "first_browser                  0\n",
       "country_destination            0\n",
       "clusters                       0\n",
       "dtype: int64"
      ]
     },
     "execution_count": 47,
     "metadata": {},
     "output_type": "execute_result"
    }
   ],
   "source": [
    "df.isnull().sum()"
   ]
  },
  {
   "cell_type": "code",
   "execution_count": 48,
   "id": "2dadd2b2-6f43-4917-aba2-ba414d8cff74",
   "metadata": {},
   "outputs": [],
   "source": [
    "df['first_affiliate_tracked'].fillna(\"unknown\",inplace=True)"
   ]
  },
  {
   "cell_type": "code",
   "execution_count": 49,
   "id": "a011f823-6de9-437a-8ceb-eb95eb843322",
   "metadata": {},
   "outputs": [
    {
     "data": {
      "text/html": [
       "<div>\n",
       "<style scoped>\n",
       "    .dataframe tbody tr th:only-of-type {\n",
       "        vertical-align: middle;\n",
       "    }\n",
       "\n",
       "    .dataframe tbody tr th {\n",
       "        vertical-align: top;\n",
       "    }\n",
       "\n",
       "    .dataframe thead th {\n",
       "        text-align: right;\n",
       "    }\n",
       "</style>\n",
       "<table border=\"1\" class=\"dataframe\">\n",
       "  <thead>\n",
       "    <tr style=\"text-align: right;\">\n",
       "      <th></th>\n",
       "      <th>age</th>\n",
       "      <th>signup_flow</th>\n",
       "      <th>clusters</th>\n",
       "    </tr>\n",
       "  </thead>\n",
       "  <tbody>\n",
       "    <tr>\n",
       "      <th>count</th>\n",
       "      <td>73815.000000</td>\n",
       "      <td>73815.000000</td>\n",
       "      <td>73815.000000</td>\n",
       "    </tr>\n",
       "    <tr>\n",
       "      <th>mean</th>\n",
       "      <td>31.563056</td>\n",
       "      <td>4.856208</td>\n",
       "      <td>1.587496</td>\n",
       "    </tr>\n",
       "    <tr>\n",
       "      <th>std</th>\n",
       "      <td>9.593033</td>\n",
       "      <td>9.339480</td>\n",
       "      <td>0.990667</td>\n",
       "    </tr>\n",
       "    <tr>\n",
       "      <th>min</th>\n",
       "      <td>18.000000</td>\n",
       "      <td>0.000000</td>\n",
       "      <td>0.000000</td>\n",
       "    </tr>\n",
       "    <tr>\n",
       "      <th>25%</th>\n",
       "      <td>27.000000</td>\n",
       "      <td>0.000000</td>\n",
       "      <td>1.000000</td>\n",
       "    </tr>\n",
       "    <tr>\n",
       "      <th>50%</th>\n",
       "      <td>27.000000</td>\n",
       "      <td>0.000000</td>\n",
       "      <td>1.000000</td>\n",
       "    </tr>\n",
       "    <tr>\n",
       "      <th>75%</th>\n",
       "      <td>33.000000</td>\n",
       "      <td>0.000000</td>\n",
       "      <td>2.000000</td>\n",
       "    </tr>\n",
       "    <tr>\n",
       "      <th>max</th>\n",
       "      <td>100.000000</td>\n",
       "      <td>25.000000</td>\n",
       "      <td>3.000000</td>\n",
       "    </tr>\n",
       "  </tbody>\n",
       "</table>\n",
       "</div>"
      ],
      "text/plain": [
       "                age   signup_flow      clusters\n",
       "count  73815.000000  73815.000000  73815.000000\n",
       "mean      31.563056      4.856208      1.587496\n",
       "std        9.593033      9.339480      0.990667\n",
       "min       18.000000      0.000000      0.000000\n",
       "25%       27.000000      0.000000      1.000000\n",
       "50%       27.000000      0.000000      1.000000\n",
       "75%       33.000000      0.000000      2.000000\n",
       "max      100.000000     25.000000      3.000000"
      ]
     },
     "execution_count": 49,
     "metadata": {},
     "output_type": "execute_result"
    }
   ],
   "source": [
    "df.describe()"
   ]
  },
  {
   "cell_type": "markdown",
   "id": "eb5a903e-ec37-4ccb-9c3f-330d9e667c41",
   "metadata": {},
   "source": [
    "### 수치형 변수 log 변환 스케일링"
   ]
  },
  {
   "cell_type": "code",
   "execution_count": 50,
   "id": "17d2337c-ec80-4bcc-b54b-64029abf835d",
   "metadata": {},
   "outputs": [],
   "source": [
    "### Train 데이터 전처리\n",
    "df['age'] = np.log1p(df['age'])\n",
    "\n",
    "### Train 데이터 전처리\n",
    "df['signup_flow'] = np.log1p(df['signup_flow'])"
   ]
  },
  {
   "cell_type": "code",
   "execution_count": 51,
   "id": "788c7a93-c00b-472b-a4ba-9a1742dbd9c1",
   "metadata": {},
   "outputs": [
    {
     "data": {
      "text/html": [
       "<div>\n",
       "<style scoped>\n",
       "    .dataframe tbody tr th:only-of-type {\n",
       "        vertical-align: middle;\n",
       "    }\n",
       "\n",
       "    .dataframe tbody tr th {\n",
       "        vertical-align: top;\n",
       "    }\n",
       "\n",
       "    .dataframe thead th {\n",
       "        text-align: right;\n",
       "    }\n",
       "</style>\n",
       "<table border=\"1\" class=\"dataframe\">\n",
       "  <thead>\n",
       "    <tr style=\"text-align: right;\">\n",
       "      <th></th>\n",
       "      <th>age</th>\n",
       "      <th>signup_flow</th>\n",
       "      <th>clusters</th>\n",
       "    </tr>\n",
       "  </thead>\n",
       "  <tbody>\n",
       "    <tr>\n",
       "      <th>count</th>\n",
       "      <td>73815.000000</td>\n",
       "      <td>73815.000000</td>\n",
       "      <td>73815.000000</td>\n",
       "    </tr>\n",
       "    <tr>\n",
       "      <th>mean</th>\n",
       "      <td>3.449994</td>\n",
       "      <td>0.696125</td>\n",
       "      <td>1.587496</td>\n",
       "    </tr>\n",
       "    <tr>\n",
       "      <th>std</th>\n",
       "      <td>0.242448</td>\n",
       "      <td>1.293716</td>\n",
       "      <td>0.990667</td>\n",
       "    </tr>\n",
       "    <tr>\n",
       "      <th>min</th>\n",
       "      <td>2.944439</td>\n",
       "      <td>0.000000</td>\n",
       "      <td>0.000000</td>\n",
       "    </tr>\n",
       "    <tr>\n",
       "      <th>25%</th>\n",
       "      <td>3.332205</td>\n",
       "      <td>0.000000</td>\n",
       "      <td>1.000000</td>\n",
       "    </tr>\n",
       "    <tr>\n",
       "      <th>50%</th>\n",
       "      <td>3.332205</td>\n",
       "      <td>0.000000</td>\n",
       "      <td>1.000000</td>\n",
       "    </tr>\n",
       "    <tr>\n",
       "      <th>75%</th>\n",
       "      <td>3.526361</td>\n",
       "      <td>0.000000</td>\n",
       "      <td>2.000000</td>\n",
       "    </tr>\n",
       "    <tr>\n",
       "      <th>max</th>\n",
       "      <td>4.615121</td>\n",
       "      <td>3.258097</td>\n",
       "      <td>3.000000</td>\n",
       "    </tr>\n",
       "  </tbody>\n",
       "</table>\n",
       "</div>"
      ],
      "text/plain": [
       "                age   signup_flow      clusters\n",
       "count  73815.000000  73815.000000  73815.000000\n",
       "mean       3.449994      0.696125      1.587496\n",
       "std        0.242448      1.293716      0.990667\n",
       "min        2.944439      0.000000      0.000000\n",
       "25%        3.332205      0.000000      1.000000\n",
       "50%        3.332205      0.000000      1.000000\n",
       "75%        3.526361      0.000000      2.000000\n",
       "max        4.615121      3.258097      3.000000"
      ]
     },
     "execution_count": 51,
     "metadata": {},
     "output_type": "execute_result"
    }
   ],
   "source": [
    "df.describe()"
   ]
  },
  {
   "cell_type": "markdown",
   "id": "c8cc00e0-4c42-423c-9c20-7f9e6cd7be73",
   "metadata": {},
   "source": [
    "# 클러스터링 추가"
   ]
  },
  {
   "cell_type": "markdown",
   "id": "893127ba-1788-4f4f-9539-4f9ccd462b99",
   "metadata": {},
   "source": [
    "### 데이터 분리 - Hold_out"
   ]
  },
  {
   "cell_type": "code",
   "execution_count": 54,
   "id": "9c8ac28a-46a8-4ef1-a120-be5e5d823ac6",
   "metadata": {},
   "outputs": [],
   "source": [
    "## 정답\n",
    "target = df['country_destination']\n",
    "\n",
    "## 학습에 사용하지 않은 변수 삭제\n",
    "X = df.drop(['user_id', 'date_account_created', 'timestamp_first_active', 'date_first_booking', 'country_destination'] , axis=1)"
   ]
  },
  {
   "cell_type": "code",
   "execution_count": 55,
   "id": "a26af225-3967-438a-b366-21e2c62e7a32",
   "metadata": {},
   "outputs": [],
   "source": [
    "categorical_features = [\n",
    "\"gender\",\n",
    "\"signup_method\",\n",
    "\"language\",\n",
    "\"affiliate_channel\",\n",
    "\"affiliate_provider\",\n",
    "\"first_affiliate_tracked\",\n",
    "\"signup_app\",\n",
    "\"first_device_type\",\n",
    "\"first_browser\"\n",
    "]\n",
    "\n",
    "# \"date_account_created\",\n",
    "# \"timestamp_first_active\",\n",
    "\n",
    "for i in categorical_features:\n",
    "    X[i] = X[i].astype('category')\n",
    "    # test[i] = test[i].astype('category')"
   ]
  },
  {
   "cell_type": "code",
   "execution_count": 56,
   "id": "9aae0f69-664b-4daa-a17b-bdacc3640f96",
   "metadata": {},
   "outputs": [
    {
     "name": "stdout",
     "output_type": "stream",
     "text": [
      "Training set: (59052, 12) (59052,)\n",
      "Validation set: (14763, 12) (14763,)\n"
     ]
    }
   ],
   "source": [
    "from sklearn.model_selection import train_test_split\n",
    "from sklearn.model_selection import StratifiedShuffleSplit\n",
    "\n",
    "# ## 학습용 데이터 분할\n",
    "# x_train, x_valid, y_train, y_valid = train_test_split(X, target, test_size=0.2, shuffle=True, random_state=1106)\n",
    "\n",
    "sss = StratifiedShuffleSplit(n_splits=5, test_size=0.2, random_state=1106)\n",
    "\n",
    "# 학습 및 검증 데이터 분할\n",
    "for train_index, valid_index in sss.split(X, target):\n",
    "    x_train, x_valid = X.iloc[train_index], X.iloc[valid_index]\n",
    "    y_train, y_valid = target.iloc[train_index], target.iloc[valid_index]\n",
    "\n",
    "# 결과 확인\n",
    "print(\"Training set:\", x_train.shape, y_train.shape)\n",
    "print(\"Validation set:\", x_valid.shape, y_valid.shape)"
   ]
  },
  {
   "cell_type": "code",
   "execution_count": 57,
   "id": "f4e72e81-8a70-455f-b79a-59e0c9a50321",
   "metadata": {},
   "outputs": [],
   "source": [
    "# pd.DataFrame(target).value_counts()"
   ]
  },
  {
   "cell_type": "code",
   "execution_count": 58,
   "id": "f2012019-cb3e-4290-8275-e9eef5ef14c4",
   "metadata": {},
   "outputs": [],
   "source": [
    "# pd.DataFrame(y_train).value_counts()"
   ]
  },
  {
   "cell_type": "code",
   "execution_count": 59,
   "id": "70907416-9616-49ac-9a5c-fe226bc9ecf4",
   "metadata": {},
   "outputs": [],
   "source": [
    "# pd.DataFrame(y_valid).value_counts()"
   ]
  },
  {
   "cell_type": "code",
   "execution_count": 60,
   "id": "9694ef9b-bfd3-435d-b9e9-2aeaabb05b39",
   "metadata": {},
   "outputs": [],
   "source": [
    "from sklearn.preprocessing import LabelBinarizer\n",
    "\n",
    "encoder = LabelBinarizer()\n",
    "\n",
    "# 학습 데이터에 대해 레이블 인코딩 적용\n",
    "y_train_encoded = encoder.fit_transform(y_train)\n",
    "\n",
    "# 검증 데이터에 대해서도 동일하게 레이블 인코딩 적용 (fit 메서드 사용 X)\n",
    "y_valid_encoded = encoder.transform(y_valid)"
   ]
  },
  {
   "cell_type": "markdown",
   "id": "b0521bfe-e53e-43fe-9911-ab362dff269b",
   "metadata": {},
   "source": [
    "## 모델 구축 및 학습"
   ]
  },
  {
   "cell_type": "code",
   "execution_count": 61,
   "id": "6a330ef0-91b2-4e9c-a464-8267f11692aa",
   "metadata": {},
   "outputs": [],
   "source": [
    "from catboost import CatBoostClassifier\n",
    "from sklearn.model_selection import RandomizedSearchCV, KFold\n",
    "from scipy.stats import uniform, randint\n",
    "from sklearn.metrics import make_scorer\n",
    "from sklearn.metrics import ndcg_score\n",
    "from sklearn.metrics import accuracy_score, f1_score, confusion_matrix\n",
    "from sklearn.model_selection import StratifiedKFold\n",
    "import time"
   ]
  },
  {
   "cell_type": "markdown",
   "id": "0388e700-17cc-4283-ab1e-3700b2e2dd43",
   "metadata": {},
   "source": [
    "### 모델 평가 방식"
   ]
  },
  {
   "cell_type": "code",
   "execution_count": 62,
   "id": "26859edd-08e1-4cbc-98b0-23c7f9124358",
   "metadata": {},
   "outputs": [],
   "source": [
    "def ndcg_accuracy(y_true, y_pred_proba):\n",
    "    # NDCG 점수 계산\n",
    "    ndcg = ndcg_score(y_true, pred_proba, k=5) ## 상위 5개\n",
    "    return ndcg"
   ]
  },
  {
   "cell_type": "markdown",
   "id": "bde2adee-05bc-4ebe-9fc2-6e3781dbb2f3",
   "metadata": {},
   "source": [
    "## 모델 학습"
   ]
  },
  {
   "cell_type": "code",
   "execution_count": 63,
   "id": "09e919f9-3558-4acd-b6f2-fad7a8f14ae7",
   "metadata": {},
   "outputs": [],
   "source": [
    "# 모델 생성\n",
    "model = CatBoostClassifier(\n",
    "    iterations=100,\n",
    "    cat_features=categorical_features,\n",
    "    learning_rate=0.01,\n",
    "    depth=6, \n",
    "    loss_function='MultiClass',  # 다중 분류 손실 함수 지정\n",
    "    eval_metric='MultiClass',    # 다중 분류 평가 메트릭 지정\n",
    "    verbose=False, \n",
    "    random_seed=random_seed\n",
    ")\n",
    "\n",
    "# 모델 학습\n",
    "model.fit(x_train, y_train)\n",
    "\n",
    "# 모델 예측\n",
    "pred = model.predict(x_valid)\n",
    "\n",
    "# 모델 국가 예측 확률\n",
    "pred_proba = model.predict_proba(x_valid)"
   ]
  },
  {
   "cell_type": "markdown",
   "id": "c48ca60d-8bc1-48f1-9a9c-387e33d2ffa2",
   "metadata": {},
   "source": [
    "### 학습 결과"
   ]
  },
  {
   "cell_type": "code",
   "execution_count": 64,
   "id": "a35947fa-77cf-4973-9d51-c8e189b4aac7",
   "metadata": {},
   "outputs": [
    {
     "name": "stdout",
     "output_type": "stream",
     "text": [
      "Accuracy: 0.6501\n",
      "F1 Score: 0.6030\n"
     ]
    }
   ],
   "source": [
    "# Accuracy 계산\n",
    "accuracy = accuracy_score(y_valid, pred)\n",
    "print(\"Accuracy: {:.4f}\".format(accuracy))\n",
    "\n",
    "# F1 score 계산\n",
    "f1 = f1_score(y_valid, pred, average='weighted')\n",
    "print(\"F1 Score: {:.4f}\".format(f1))"
   ]
  },
  {
   "cell_type": "markdown",
   "id": "932c7a86-5fb7-45f0-90e9-0c826c2bee70",
   "metadata": {},
   "source": [
    "## 모델 평가 NDCG"
   ]
  },
  {
   "cell_type": "code",
   "execution_count": 65,
   "id": "281bb570-e096-41d9-8f8e-8402dfb9fa27",
   "metadata": {},
   "outputs": [
    {
     "name": "stdout",
     "output_type": "stream",
     "text": [
      "NDCG: 0.8348\n"
     ]
    }
   ],
   "source": [
    "# NDCG 점수 계산\n",
    "ndcg = ndcg_accuracy(y_valid_encoded, pred_proba)\n",
    "print(\"NDCG: {:.4f}\".format(ndcg))"
   ]
  },
  {
   "cell_type": "code",
   "execution_count": 66,
   "id": "679fe74a-1ba3-4db2-aca4-a233c13b1b4f",
   "metadata": {},
   "outputs": [
    {
     "name": "stdout",
     "output_type": "stream",
     "text": [
      "Confusion Matrix:\n",
      "[[   0    0    0    0    0    0    0   14    0    0   17    0]\n",
      " [   0    0    0    0    0    0    0   45    0    0   43    0]\n",
      " [   0    0    0    0    0    0    0   18    0    0   32    0]\n",
      " [   0    0    0    0    0    0    0   84    0    0   57    0]\n",
      " [   0    0    0    0    0    0    0  170    0    0  117    0]\n",
      " [   0    0    0    0    0    0    0   73    0    0   73    0]\n",
      " [   0    0    0    0    0    0    0  117    0    0   79    0]\n",
      " [   0    0    0    0    0    0    0 7740    0    0 1268    0]\n",
      " [   0    0    0    0    0    0    0   21    0    0   28    0]\n",
      " [   0    0    0    0    0    0    0   11    0    0    6    0]\n",
      " [   0    0    0    0    0    0    0 2161    0    0 1858    0]\n",
      " [   0    0    0    0    0    0    0  416    0    0  315    0]]\n"
     ]
    }
   ],
   "source": [
    "# Confusion Matrix 계산\n",
    "conf_matrix = confusion_matrix(y_valid, pred)\n",
    "print(\"Confusion Matrix:\")\n",
    "print(conf_matrix)"
   ]
  },
  {
   "cell_type": "code",
   "execution_count": 67,
   "id": "0796d67b-3f62-4ff1-ba61-fd1fba269d24",
   "metadata": {},
   "outputs": [
    {
     "data": {
      "image/png": "[encoded data removed]",
      "text/plain": [
       "<Figure size 1000x700 with 1 Axes>"
      ]
     },
     "metadata": {},
     "output_type": "display_data"
    }
   ],
   "source": [
    "plt.figure(figsize=(10, 7))  # 시각화 크기 설정\n",
    "sns.heatmap(conf_matrix, annot=True, fmt=\"d\", cmap=\"Blues\", cbar=False)\n",
    "plt.xlabel('예측 레이블')\n",
    "plt.ylabel('실제 레이블')\n",
    "plt.title('Confusion Matrix')\n",
    "plt.show()"
   ]
  },
  {
   "cell_type": "markdown",
   "id": "0b85de97-3283-4410-9033-002def25bc66",
   "metadata": {},
   "source": [
    "### 중요 feature"
   ]
  },
  {
   "cell_type": "code",
   "execution_count": 68,
   "id": "cc892c87-9eae-4fc1-b0b7-57472d6bb1c6",
   "metadata": {},
   "outputs": [
    {
     "data": {
      "image/png": "[encoded data removed]",
      "text/plain": [
       "<Figure size 800x600 with 1 Axes>"
      ]
     },
     "metadata": {},
     "output_type": "display_data"
    }
   ],
   "source": [
    "%matplotlib inline\n",
    "\n",
    "ftr_importances_values = model.feature_importances_\n",
    "ftr_importances = pd.Series(ftr_importances_values, index = x_train.columns)\n",
    "ftr_top20 = ftr_importances.sort_values(ascending=False)[:20]\n",
    "\n",
    "plt.figure(figsize=(8,6))\n",
    "plt.title('Top 20 Feature Importances')\n",
    "sns.barplot(x=ftr_top20, y=ftr_top20.index)\n",
    "plt.show()"
   ]
  },
  {
   "cell_type": "markdown",
   "id": "62889172-9a82-490b-afba-28b999f65da3",
   "metadata": {},
   "source": [
    "# StratifiedKFold 사용"
   ]
  },
  {
   "cell_type": "code",
   "execution_count": 69,
   "id": "5e8522cd-514f-47b9-82f0-9a6b1d70a102",
   "metadata": {},
   "outputs": [
    {
     "name": "stdout",
     "output_type": "stream",
     "text": [
      "Mean NDCG Score: 0.6239838916265353\n"
     ]
    }
   ],
   "source": [
    "# StratifiedKFold 사용\n",
    "n_splits = 5\n",
    "\n",
    "skf = StratifiedKFold(n_splits=n_splits, shuffle=True, random_state=random_seed)\n",
    "\n",
    "model = CatBoostClassifier(iterations=300, \n",
    "                           learning_rate=0.01, \n",
    "                           depth=6, \n",
    "                           loss_function='MultiClass',\n",
    "                           cat_features=categorical_features,\n",
    "                           random_seed=random_seed,\n",
    "                           auto_class_weights='Balanced', ## 클래스 불균형\n",
    "                           verbose=0)\n",
    "\n",
    "ndcg_scores = []\n",
    "\n",
    "for train_index, test_index in skf.split(X, target):\n",
    "    X_train_fold, X_test_fold = X.iloc[train_index], X.iloc[test_index]\n",
    "    y_train_fold, y_test_fold = target.iloc[train_index], target.iloc[test_index]\n",
    "    \n",
    "    model.fit(X_train_fold, y_train_fold, eval_set=(X_test_fold, y_test_fold))\n",
    "    \n",
    "    y_pred_probs_fold = model.predict_proba(X_test_fold)\n",
    "    \n",
    "    ndcg_fold = ndcg_score(encoder.transform(y_test_fold), y_pred_probs_fold)\n",
    "    ndcg_scores.append(ndcg_fold)\n",
    "\n",
    "mean_ndcg = np.mean(ndcg_scores)\n",
    "print(\"Mean NDCG Score:\", mean_ndcg)"
   ]
  },
  {
   "cell_type": "code",
   "execution_count": 70,
   "id": "469428d8-3ccb-451d-bd03-9cdb4d9880b8",
   "metadata": {},
   "outputs": [
    {
     "name": "stdout",
     "output_type": "stream",
     "text": [
      "Mean NDCG Score: 0.8460268643556695\n"
     ]
    }
   ],
   "source": [
    "# StratifiedKFold 사용\n",
    "n_splits = 5\n",
    "\n",
    "skf = StratifiedKFold(n_splits=n_splits, shuffle=True, random_state=random_seed)\n",
    "\n",
    "model = CatBoostClassifier(iterations=300, \n",
    "                           learning_rate=0.01, \n",
    "                           depth=6, \n",
    "                           loss_function='MultiClass',\n",
    "                           cat_features=categorical_features,\n",
    "                           random_seed=random_seed,\n",
    "                           verbose=0)\n",
    "\n",
    "ndcg_scores = []\n",
    "\n",
    "for train_index, test_index in skf.split(X, target):\n",
    "    X_train_fold, X_test_fold = X.iloc[train_index], X.iloc[test_index]\n",
    "    y_train_fold, y_test_fold = target.iloc[train_index], target.iloc[test_index]\n",
    "    \n",
    "    model.fit(X_train_fold, y_train_fold, eval_set=(X_test_fold, y_test_fold))\n",
    "    \n",
    "    y_pred_probs_fold = model.predict_proba(X_test_fold)\n",
    "    \n",
    "    ndcg_fold = ndcg_score(encoder.transform(y_test_fold), y_pred_probs_fold)\n",
    "    ndcg_scores.append(ndcg_fold)\n",
    "\n",
    "mean_ndcg = np.mean(ndcg_scores)\n",
    "print(\"Mean NDCG Score:\", mean_ndcg)"
   ]
  }
 ],
 "metadata": {
  "kernelspec": {
   "display_name": "myvenv",
   "language": "python",
   "name": "myvenv"
  },
  "language_info": {
   "codemirror_mode": {
    "name": "ipython",
    "version": 3
   },
   "file_extension": ".py",
   "mimetype": "text/x-python",
   "name": "python",
   "nbconvert_exporter": "python",
   "pygments_lexer": "ipython3",
   "version": "3.7.16"
  }
 },
 "nbformat": 4,
 "nbformat_minor": 5
}
