{
 "cells": [
  {
   "cell_type": "code",
   "execution_count": null,
   "id": "b896ea67",
   "metadata": {},
   "outputs": [],
   "source": [
    "# conda install -c conda-forge catboost"
   ]
  },
  {
   "cell_type": "code",
   "execution_count": 45,
   "id": "f143db16",
   "metadata": {
    "scrolled": true
   },
   "outputs": [],
   "source": [
    "import pandas as pd\n",
    "import numpy as np\n",
    "import random\n",
    "import matplotlib.pyplot as plt\n",
    "import seaborn as sns\n",
    "import os\n",
    "\n",
    "from catboost import CatBoostClassifier, Pool\n",
    "from sklearn.model_selection import train_test_split, RandomizedSearchCV, StratifiedKFold\n",
    "from sklearn.metrics import accuracy_score, ndcg_score, make_scorer\n",
    "from sklearn.preprocessing import LabelBinarizer, LabelEncoder\n",
    "\n",
    "from sklearn.feature_extraction.text import TfidfVectorizer\n",
    "from scipy.sparse import hstack\n",
    "from scipy.stats import randint as sp_randint"
   ]
  },
  {
   "cell_type": "code",
   "execution_count": 3,
   "id": "4818013a",
   "metadata": {},
   "outputs": [],
   "source": [
    "def set_random_seed(seed):\n",
    "    np.random.seed(seed)\n",
    "    random.seed(seed)\n",
    "    os.environ['PYTHONHASHSEED'] = str(seed)\n",
    "random_seed = 1106\n",
    "set_random_seed(random_seed)"
   ]
  },
  {
   "cell_type": "code",
   "execution_count": 24,
   "id": "3c0a6014",
   "metadata": {},
   "outputs": [],
   "source": [
    "train = pd.read_csv('train_users_2.csv')\n",
    "session = pd.read_csv('sessions.csv')"
   ]
  },
  {
   "cell_type": "markdown",
   "id": "2c6737f7",
   "metadata": {},
   "source": [
    "## Train 전처리"
   ]
  },
  {
   "cell_type": "code",
   "execution_count": 25,
   "id": "2af93db6",
   "metadata": {},
   "outputs": [],
   "source": [
    "# train 전처리\n",
    "train.rename(columns={'id':'user_id'},inplace=True)\n",
    "train['timestamp_first_active'] = pd.to_datetime(train['timestamp_first_active'], format = '%Y%m%d%H%M%S')\n",
    "train['date_account_created'] = pd.to_datetime(train['date_account_created'])\n",
    "train['date_first_booking'] = pd.to_datetime(train['date_first_booking'], errors='coerce')"
   ]
  },
  {
   "cell_type": "code",
   "execution_count": 66,
   "id": "1979b215",
   "metadata": {},
   "outputs": [
    {
     "data": {
      "text/plain": [
       "user_id                         0\n",
       "date_account_created            0\n",
       "timestamp_first_active          0\n",
       "date_first_booking         124543\n",
       "gender                          0\n",
       "age                         87990\n",
       "signup_method                   0\n",
       "signup_flow                     0\n",
       "language                        0\n",
       "affiliate_channel               0\n",
       "affiliate_provider              0\n",
       "first_affiliate_tracked      6065\n",
       "signup_app                      0\n",
       "first_device_type               0\n",
       "first_browser                   0\n",
       "country_destination             0\n",
       "dtype: int64"
      ]
     },
     "execution_count": 66,
     "metadata": {},
     "output_type": "execute_result"
    }
   ],
   "source": [
    "train.isnull().sum()"
   ]
  },
  {
   "cell_type": "markdown",
   "id": "cd27a469",
   "metadata": {},
   "source": [
    "### age 전처리\n",
    "- 18세 이하는 가입이 불가능하니 해당되는 나이는 0으로 대체\n",
    "- 1000이상인 값은 태어난 연도로 간주하여 계정 생성연도에서 뺀 나이로 대체(음수가 나오면 0으로 대체)\n",
    "- 결측치는 25% - 75%분위 사이의 랜덤 숫자로 채워넣기"
   ]
  },
  {
   "cell_type": "code",
   "execution_count": 27,
   "id": "9fcf5a17",
   "metadata": {},
   "outputs": [],
   "source": [
    "train2 = train.copy()"
   ]
  },
  {
   "cell_type": "code",
   "execution_count": 30,
   "id": "9ee2f314",
   "metadata": {},
   "outputs": [
    {
     "data": {
      "text/plain": [
       "count    125461.000000\n",
       "mean         49.668335\n",
       "std         155.666612\n",
       "min           1.000000\n",
       "25%          28.000000\n",
       "50%          34.000000\n",
       "75%          43.000000\n",
       "max        2014.000000\n",
       "Name: age, dtype: float64"
      ]
     },
     "execution_count": 30,
     "metadata": {},
     "output_type": "execute_result"
    }
   ],
   "source": [
    "train['age'].describe()"
   ]
  },
  {
   "cell_type": "code",
   "execution_count": 28,
   "id": "a2735e8f",
   "metadata": {},
   "outputs": [],
   "source": [
    "train2['first_affiliate_tracked'].fillna('untracked', inplace=True)\n",
    "# 18세 이하는 0으로\n",
    "train2['age'] = train2['age'].apply(lambda x: 0 if x < 18 else x)\n",
    "\n",
    "# 1000이상인 값은 태어난 년도로 간주하여 계정 생성연도를 추출하여 나이를 채운다\n",
    "current_year = pd.to_datetime(train2['date_account_created']).dt.year\n",
    "birth_year = current_year - train2['age']\n",
    "train2['age'] = np.where(train2['age'] > 1000, np.where(birth_year > 0, birth_year, 0), train2['age'])\n",
    "\n",
    "# NaN값과 100 이상의 값들은 위의 통계값을 이용하여 25% - 75% 사이의 랜덤 값으로 채우기\n",
    "percentile_25 = train2['age'].quantile(0.25)\n",
    "percentile_75 = train2['age'].quantile(0.75)\n",
    "\n",
    "def replace_age(x):\n",
    "    if np.isnan(x) or x > 100:\n",
    "        return np.random.randint(percentile_25, percentile_75 + 1)\n",
    "    return x\n",
    "\n",
    "train2['age'] = train2['age'].apply(replace_age)"
   ]
  },
  {
   "cell_type": "markdown",
   "id": "503cfbcb",
   "metadata": {},
   "source": [
    "## Session 전처리"
   ]
  },
  {
   "cell_type": "code",
   "execution_count": 5,
   "id": "8333e91d",
   "metadata": {},
   "outputs": [
    {
     "data": {
      "text/html": [
       "<div>\n",
       "<style scoped>\n",
       "    .dataframe tbody tr th:only-of-type {\n",
       "        vertical-align: middle;\n",
       "    }\n",
       "\n",
       "    .dataframe tbody tr th {\n",
       "        vertical-align: top;\n",
       "    }\n",
       "\n",
       "    .dataframe thead th {\n",
       "        text-align: right;\n",
       "    }\n",
       "</style>\n",
       "<table border=\"1\" class=\"dataframe\">\n",
       "  <thead>\n",
       "    <tr style=\"text-align: right;\">\n",
       "      <th></th>\n",
       "      <th>user_id</th>\n",
       "      <th>action</th>\n",
       "      <th>action_type</th>\n",
       "      <th>action_detail</th>\n",
       "      <th>device_type</th>\n",
       "      <th>secs_elapsed</th>\n",
       "    </tr>\n",
       "  </thead>\n",
       "  <tbody>\n",
       "    <tr>\n",
       "      <th>0</th>\n",
       "      <td>d1mm9tcy42</td>\n",
       "      <td>lookup</td>\n",
       "      <td>NaN</td>\n",
       "      <td>NaN</td>\n",
       "      <td>Windows Desktop</td>\n",
       "      <td>319.0</td>\n",
       "    </tr>\n",
       "    <tr>\n",
       "      <th>1</th>\n",
       "      <td>d1mm9tcy42</td>\n",
       "      <td>search_results</td>\n",
       "      <td>click</td>\n",
       "      <td>view_search_results</td>\n",
       "      <td>Windows Desktop</td>\n",
       "      <td>67753.0</td>\n",
       "    </tr>\n",
       "    <tr>\n",
       "      <th>2</th>\n",
       "      <td>d1mm9tcy42</td>\n",
       "      <td>lookup</td>\n",
       "      <td>NaN</td>\n",
       "      <td>NaN</td>\n",
       "      <td>Windows Desktop</td>\n",
       "      <td>301.0</td>\n",
       "    </tr>\n",
       "    <tr>\n",
       "      <th>3</th>\n",
       "      <td>d1mm9tcy42</td>\n",
       "      <td>search_results</td>\n",
       "      <td>click</td>\n",
       "      <td>view_search_results</td>\n",
       "      <td>Windows Desktop</td>\n",
       "      <td>22141.0</td>\n",
       "    </tr>\n",
       "    <tr>\n",
       "      <th>4</th>\n",
       "      <td>d1mm9tcy42</td>\n",
       "      <td>lookup</td>\n",
       "      <td>NaN</td>\n",
       "      <td>NaN</td>\n",
       "      <td>Windows Desktop</td>\n",
       "      <td>435.0</td>\n",
       "    </tr>\n",
       "  </tbody>\n",
       "</table>\n",
       "</div>"
      ],
      "text/plain": [
       "      user_id          action action_type        action_detail  \\\n",
       "0  d1mm9tcy42          lookup         NaN                  NaN   \n",
       "1  d1mm9tcy42  search_results       click  view_search_results   \n",
       "2  d1mm9tcy42          lookup         NaN                  NaN   \n",
       "3  d1mm9tcy42  search_results       click  view_search_results   \n",
       "4  d1mm9tcy42          lookup         NaN                  NaN   \n",
       "\n",
       "       device_type  secs_elapsed  \n",
       "0  Windows Desktop         319.0  \n",
       "1  Windows Desktop       67753.0  \n",
       "2  Windows Desktop         301.0  \n",
       "3  Windows Desktop       22141.0  \n",
       "4  Windows Desktop         435.0  "
      ]
     },
     "execution_count": 5,
     "metadata": {},
     "output_type": "execute_result"
    }
   ],
   "source": [
    "session.head()"
   ]
  },
  {
   "cell_type": "code",
   "execution_count": 6,
   "id": "3c30e248",
   "metadata": {},
   "outputs": [
    {
     "data": {
      "text/plain": [
       "user_id            34496\n",
       "action             79626\n",
       "action_type      1126204\n",
       "action_detail    1126204\n",
       "device_type            0\n",
       "secs_elapsed      136031\n",
       "dtype: int64"
      ]
     },
     "execution_count": 6,
     "metadata": {},
     "output_type": "execute_result"
    }
   ],
   "source": [
    "session.isnull().sum()"
   ]
  },
  {
   "cell_type": "code",
   "execution_count": 7,
   "id": "f9e09058",
   "metadata": {},
   "outputs": [],
   "source": [
    "# user_id가 존재하지 않는 것은 삭제 -> train이랑 머지가 불가능한 데이터\n",
    "session.dropna(subset='user_id', inplace=True)"
   ]
  },
  {
   "cell_type": "code",
   "execution_count": 15,
   "id": "2250edf4",
   "metadata": {},
   "outputs": [],
   "source": [
    "session['action'].replace('-unknown-', 'unknown', inplace=True)\n",
    "session['action_type'].replace('-unknown-', 'unknown', inplace=True)\n",
    "session['action_detail'].replace('-unknown-', 'unknown', inplace=True)\n",
    "session['device_type'].replace('-unknown-', 'unknown', inplace=True)"
   ]
  },
  {
   "cell_type": "code",
   "execution_count": 9,
   "id": "fdaab284",
   "metadata": {},
   "outputs": [],
   "source": [
    "session['action'].fillna('unknown', inplace=True)\n",
    "session['action_type'].fillna('unknown', inplace=True)\n",
    "session['action_detail'].fillna('unknown', inplace=True)"
   ]
  },
  {
   "cell_type": "code",
   "execution_count": 10,
   "id": "022dbd2c",
   "metadata": {},
   "outputs": [],
   "source": [
    "session['secs_elapsed'].fillna(0, inplace=True)"
   ]
  },
  {
   "cell_type": "code",
   "execution_count": 11,
   "id": "0d8febcf",
   "metadata": {},
   "outputs": [],
   "source": [
    "# user_flow 컬럼 생성\n",
    "session['user_flow'] = session['action'].astype('str') + '+' + session['action_type'].astype('str') + '+' + session['action_detail'].astype('str')"
   ]
  },
  {
   "cell_type": "markdown",
   "id": "3ab34769",
   "metadata": {},
   "source": [
    "### action columns\n",
    "\n",
    "- action+type+detail = user_flow로 묶고 user_id 별 모든 user_flow를 한 string으로 합치기\n",
    "- train과 머지했을 때 중복을 피하기 위함\n",
    "- 구분자는 쉼표"
   ]
  },
  {
   "cell_type": "code",
   "execution_count": 12,
   "id": "0ad2af20",
   "metadata": {},
   "outputs": [],
   "source": [
    "user_flows_concatenated = session.groupby('user_id')['user_flow'].apply(lambda x: ','.join(x)).reset_index()\n",
    "\n",
    "session = pd.merge(session.drop(columns=['user_flow']), user_flows_concatenated, on='user_id', how='left')"
   ]
  },
  {
   "cell_type": "code",
   "execution_count": 16,
   "id": "1711a1b4",
   "metadata": {},
   "outputs": [],
   "source": [
    "session_df = session.copy()"
   ]
  },
  {
   "cell_type": "markdown",
   "id": "3c27b2b1",
   "metadata": {},
   "source": [
    "### feature engineering\n",
    "- user_id별 평균 세션 시간 생성\n",
    "- user_id별 가장 많이 쓴 주요 device_type 생성\n",
    "- user_id별 세션 총 개수 생성"
   ]
  },
  {
   "cell_type": "code",
   "execution_count": 46,
   "id": "35815710",
   "metadata": {},
   "outputs": [],
   "source": [
    "# user_id별 평균 secs_elapsed column 생성\n",
    "session_df['mean_secs_elapsed'] = session_df.groupby('user_id')['secs_elapsed'].transform('mean')\n",
    "# user_id별 가장 빈도수가 높은 device_type column 생성\n",
    "session_df['most_frequent_device'] = session_df.groupby('user_id')['device_type'].transform(lambda x: x.mode()[0])\n",
    "# user_id별 세션 총 개수\n",
    "session_df['session_count'] = session_df.groupby('user_id')['action'].transform('count')"
   ]
  },
  {
   "cell_type": "code",
   "execution_count": 38,
   "id": "986d8aa7",
   "metadata": {},
   "outputs": [
    {
     "data": {
      "text/plain": [
       "135483"
      ]
     },
     "execution_count": 38,
     "metadata": {},
     "output_type": "execute_result"
    }
   ],
   "source": [
    "len(session_df['user_id'].unique())"
   ]
  },
  {
   "cell_type": "code",
   "execution_count": 48,
   "id": "affb6339",
   "metadata": {},
   "outputs": [],
   "source": [
    "session_df2 = session_df.copy()"
   ]
  },
  {
   "cell_type": "code",
   "execution_count": 49,
   "id": "8fdad165",
   "metadata": {},
   "outputs": [],
   "source": [
    "session_df2.drop(['action', 'action_type', 'action_detail', 'device_type', 'secs_elapsed'], axis=1, inplace=True)"
   ]
  },
  {
   "cell_type": "code",
   "execution_count": 50,
   "id": "0ee85ae0",
   "metadata": {},
   "outputs": [],
   "source": [
    "session_df2.drop_duplicates(subset='user_id', inplace=True)"
   ]
  },
  {
   "cell_type": "markdown",
   "id": "02fb6bd5",
   "metadata": {},
   "source": [
    "## train, session merge"
   ]
  },
  {
   "cell_type": "code",
   "execution_count": 52,
   "id": "2a0c40df",
   "metadata": {},
   "outputs": [],
   "source": [
    "merged_df = pd.merge(train2, session_df2, on='user_id', how='inner')"
   ]
  },
  {
   "cell_type": "markdown",
   "id": "d7840cb4",
   "metadata": {},
   "source": [
    "# Modeling"
   ]
  },
  {
   "cell_type": "code",
   "execution_count": 60,
   "id": "d7269fb9",
   "metadata": {},
   "outputs": [
    {
     "name": "stdout",
     "output_type": "stream",
     "text": [
      "0:\tlearn: 2.0356865\ttest: 2.0386804\tbest: 2.0386804 (0)\ttotal: 661ms\tremaining: 1m 5s\n",
      "20:\tlearn: 1.0755510\ttest: 1.0907031\tbest: 1.0907031 (20)\ttotal: 10.3s\tremaining: 38.9s\n",
      "40:\tlearn: 1.0254283\ttest: 1.0463715\tbest: 1.0463715 (40)\ttotal: 23.2s\tremaining: 33.4s\n",
      "60:\tlearn: 1.0152386\ttest: 1.0405065\tbest: 1.0405065 (60)\ttotal: 38.1s\tremaining: 24.3s\n",
      "80:\tlearn: 1.0096798\ttest: 1.0383157\tbest: 1.0383157 (80)\ttotal: 57.8s\tremaining: 13.6s\n",
      "99:\tlearn: 1.0049231\ttest: 1.0366896\tbest: 1.0366896 (99)\ttotal: 1m 12s\tremaining: 0us\n",
      "\n",
      "bestTest = 1.036689644\n",
      "bestIteration = 99\n",
      "\n",
      "NDCG Score: 0.8412432583830272\n"
     ]
    }
   ],
   "source": [
    "# NDCG metric 이용하여 확인\n",
    "X = merged_df.drop(['user_id', 'date_first_booking', 'country_destination'], axis=1)\n",
    "y = merged_df['country_destination']\n",
    "\n",
    "cat_features = ['gender', 'signup_method', 'language', 'affiliate_channel', 'affiliate_provider',\n",
    "                'first_affiliate_tracked', 'signup_app', 'first_device_type', 'first_browser', 'user_flow',\n",
    "                'most_frequent_device']\n",
    "\n",
    "X_train, X_test, y_train, y_test = train_test_split(X, y, test_size=0.2, random_state=random_seed)\n",
    "\n",
    "model = CatBoostClassifier(iterations=100, \n",
    "                            learning_rate=0.1, \n",
    "                            depth=6, \n",
    "                            loss_function='MultiClass',\n",
    "                            cat_features=cat_features,\n",
    "                            random_seed=random_seed)\n",
    "\n",
    "model.fit(X_train, y_train, eval_set=(X_test, y_test), verbose=20)\n",
    "y_pred_probs = model.predict_proba(X_test)\n",
    "\n",
    "lb = LabelBinarizer()\n",
    "y_test_bin = lb.fit_transform(y_test)\n",
    "\n",
    "ndcg = ndcg_score(y_test_bin, y_pred_probs)\n",
    "\n",
    "print(\"NDCG Score:\", ndcg)"
   ]
  },
  {
   "cell_type": "code",
   "execution_count": 64,
   "id": "cf10b68c",
   "metadata": {},
   "outputs": [
    {
     "data": {
      "text/html": [
       "<div>\n",
       "<style scoped>\n",
       "    .dataframe tbody tr th:only-of-type {\n",
       "        vertical-align: middle;\n",
       "    }\n",
       "\n",
       "    .dataframe tbody tr th {\n",
       "        vertical-align: top;\n",
       "    }\n",
       "\n",
       "    .dataframe thead th {\n",
       "        text-align: right;\n",
       "    }\n",
       "</style>\n",
       "<table border=\"1\" class=\"dataframe\">\n",
       "  <thead>\n",
       "    <tr style=\"text-align: right;\">\n",
       "      <th></th>\n",
       "      <th>Feature</th>\n",
       "      <th>Importance</th>\n",
       "    </tr>\n",
       "  </thead>\n",
       "  <tbody>\n",
       "    <tr>\n",
       "      <th>2</th>\n",
       "      <td>gender</td>\n",
       "      <td>27.486336</td>\n",
       "    </tr>\n",
       "    <tr>\n",
       "      <th>14</th>\n",
       "      <td>mean_secs_elapsed</td>\n",
       "      <td>9.878797</td>\n",
       "    </tr>\n",
       "    <tr>\n",
       "      <th>3</th>\n",
       "      <td>age</td>\n",
       "      <td>8.625055</td>\n",
       "    </tr>\n",
       "    <tr>\n",
       "      <th>4</th>\n",
       "      <td>signup_method</td>\n",
       "      <td>6.486867</td>\n",
       "    </tr>\n",
       "    <tr>\n",
       "      <th>15</th>\n",
       "      <td>most_frequent_device</td>\n",
       "      <td>6.275407</td>\n",
       "    </tr>\n",
       "    <tr>\n",
       "      <th>16</th>\n",
       "      <td>session_count</td>\n",
       "      <td>6.163906</td>\n",
       "    </tr>\n",
       "    <tr>\n",
       "      <th>9</th>\n",
       "      <td>first_affiliate_tracked</td>\n",
       "      <td>6.068979</td>\n",
       "    </tr>\n",
       "    <tr>\n",
       "      <th>11</th>\n",
       "      <td>first_device_type</td>\n",
       "      <td>5.942821</td>\n",
       "    </tr>\n",
       "    <tr>\n",
       "      <th>12</th>\n",
       "      <td>first_browser</td>\n",
       "      <td>5.107344</td>\n",
       "    </tr>\n",
       "    <tr>\n",
       "      <th>7</th>\n",
       "      <td>affiliate_channel</td>\n",
       "      <td>5.033197</td>\n",
       "    </tr>\n",
       "    <tr>\n",
       "      <th>8</th>\n",
       "      <td>affiliate_provider</td>\n",
       "      <td>3.240141</td>\n",
       "    </tr>\n",
       "    <tr>\n",
       "      <th>10</th>\n",
       "      <td>signup_app</td>\n",
       "      <td>3.112288</td>\n",
       "    </tr>\n",
       "    <tr>\n",
       "      <th>0</th>\n",
       "      <td>date_account_created</td>\n",
       "      <td>2.283492</td>\n",
       "    </tr>\n",
       "    <tr>\n",
       "      <th>13</th>\n",
       "      <td>user_flow</td>\n",
       "      <td>1.589127</td>\n",
       "    </tr>\n",
       "    <tr>\n",
       "      <th>6</th>\n",
       "      <td>language</td>\n",
       "      <td>1.340434</td>\n",
       "    </tr>\n",
       "    <tr>\n",
       "      <th>1</th>\n",
       "      <td>timestamp_first_active</td>\n",
       "      <td>1.233406</td>\n",
       "    </tr>\n",
       "    <tr>\n",
       "      <th>5</th>\n",
       "      <td>signup_flow</td>\n",
       "      <td>0.132404</td>\n",
       "    </tr>\n",
       "  </tbody>\n",
       "</table>\n",
       "</div>"
      ],
      "text/plain": [
       "                    Feature  Importance\n",
       "2                    gender   27.486336\n",
       "14        mean_secs_elapsed    9.878797\n",
       "3                       age    8.625055\n",
       "4             signup_method    6.486867\n",
       "15     most_frequent_device    6.275407\n",
       "16            session_count    6.163906\n",
       "9   first_affiliate_tracked    6.068979\n",
       "11        first_device_type    5.942821\n",
       "12            first_browser    5.107344\n",
       "7         affiliate_channel    5.033197\n",
       "8        affiliate_provider    3.240141\n",
       "10               signup_app    3.112288\n",
       "0      date_account_created    2.283492\n",
       "13                user_flow    1.589127\n",
       "6                  language    1.340434\n",
       "1    timestamp_first_active    1.233406\n",
       "5               signup_flow    0.132404"
      ]
     },
     "execution_count": 64,
     "metadata": {},
     "output_type": "execute_result"
    }
   ],
   "source": [
    "feature_importance = model.feature_importances_\n",
    "feature_names = X_train.columns\n",
    "\n",
    "# Create a DataFrame to store feature importances\n",
    "feature_importance_df = pd.DataFrame({'Feature': feature_names, 'Importance': feature_importance})\n",
    "\n",
    "# Sort the DataFrame by importance score in descending order\n",
    "feature_importance_df = feature_importance_df.sort_values(by='Importance', ascending=False)"
   ]
  },
  {
   "cell_type": "code",
   "execution_count": 65,
   "id": "7de51bcf",
   "metadata": {},
   "outputs": [
    {
     "data": {
      "image/png": "[encoded data removed]",
      "text/plain": [
       "<Figure size 1000x800 with 1 Axes>"
      ]
     },
     "metadata": {},
     "output_type": "display_data"
    }
   ],
   "source": [
    "plt.figure(figsize=(10, 8))\n",
    "sns.barplot(x='Importance', y='Feature', data=feature_importance_df, palette='viridis')\n",
    "\n",
    "plt.xlabel('Importance')\n",
    "plt.ylabel('Feature')\n",
    "plt.title('Feature Importances')\n",
    "plt.show()"
   ]
  },
  {
   "cell_type": "markdown",
   "id": "1c5e5105",
   "metadata": {},
   "source": [
    "### Ideas\n",
    "- action 관련 컬럼들을 모아 TF-IDF를 구해보면 어떨까..?"
   ]
  },
  {
   "cell_type": "code",
   "execution_count": 69,
   "id": "d85517ba",
   "metadata": {},
   "outputs": [],
   "source": [
    "merged_df2 = merged_df.copy()"
   ]
  },
  {
   "cell_type": "markdown",
   "id": "e2ed42bb",
   "metadata": {},
   "source": [
    "### TF-IDF 시도\n",
    "- 첫 시도 : NDCG Score: 0.8597143850429759\n",
    "- 두번째 시도 : NDCG Score: 0.8616180814327093"
   ]
  },
  {
   "cell_type": "code",
   "execution_count": 70,
   "id": "f6eea848",
   "metadata": {},
   "outputs": [],
   "source": [
    "# tf-idf\n",
    "tfidf_vectorizer = TfidfVectorizer()\n",
    "tfidf_matrix = tfidf_vectorizer.fit_transform(merged_df2['user_flow'])\n",
    "\n",
    "# TF-IDF를 기존 데이터프레임에 추가\n",
    "tfidf_df = pd.DataFrame(tfidf_matrix.toarray(), columns=tfidf_vectorizer.get_feature_names_out())\n",
    "merged_df_with_tfidf = pd.concat([merged_df2, tfidf_df], axis=1)\n",
    "\n",
    "# TF-IDF를 적용한 데이터에서 불필요한 열 제거\n",
    "merged_df_with_tfidf.drop(['user_flow'], axis=1, inplace=True)"
   ]
  },
  {
   "cell_type": "code",
   "execution_count": 52,
   "id": "9ca56ede",
   "metadata": {},
   "outputs": [
    {
     "name": "stdout",
     "output_type": "stream",
     "text": [
      "0:\tlearn: 2.0150224\ttest: 2.0184679\tbest: 2.0184679 (0)\ttotal: 1.02s\tremaining: 1m 40s\n",
      "20:\tlearn: 1.0034806\ttest: 1.0227672\tbest: 1.0227672 (20)\ttotal: 24.6s\tremaining: 1m 32s\n",
      "40:\tlearn: 0.9518092\ttest: 0.9780390\tbest: 0.9780390 (40)\ttotal: 47.2s\tremaining: 1m 7s\n",
      "60:\tlearn: 0.9390181\ttest: 0.9702637\tbest: 0.9702637 (60)\ttotal: 1m 11s\tremaining: 45.5s\n",
      "80:\tlearn: 0.9306522\ttest: 0.9662949\tbest: 0.9662949 (80)\ttotal: 1m 34s\tremaining: 22.3s\n",
      "99:\tlearn: 0.9252419\ttest: 0.9638447\tbest: 0.9638447 (99)\ttotal: 1m 56s\tremaining: 0us\n",
      "\n",
      "bestTest = 0.9638446803\n",
      "bestIteration = 99\n",
      "\n",
      "NDCG Score: 0.8597143850429759\n"
     ]
    }
   ],
   "source": [
    "X = merged_df_with_tfidf.drop(['user_id', 'date_account_created', 'timestamp_first_active', 'date_first_booking', 'country_destination'], axis=1)\n",
    "y = merged_df_with_tfidf['country_destination']\n",
    "\n",
    "cat_features = ['gender', 'signup_method', 'language', 'affiliate_channel', 'affiliate_provider',\n",
    "                'first_affiliate_tracked', 'signup_app', 'first_device_type', 'first_browser',\n",
    "                'most_frequent_device']\n",
    "\n",
    "X_train, X_test, y_train, y_test = train_test_split(X, y, test_size=0.2, random_state=random_seed)\n",
    "\n",
    "model = CatBoostClassifier(iterations=100, \n",
    "                            learning_rate=0.1, \n",
    "                            depth=6, \n",
    "                            loss_function='MultiClass',\n",
    "                            cat_features=cat_features,\n",
    "                            random_seed=random_seed)\n",
    "\n",
    "model.fit(X_train, y_train, eval_set=(X_test, y_test), verbose=20)\n",
    "y_pred_probs = model.predict_proba(X_test)\n",
    "\n",
    "lb = LabelBinarizer()\n",
    "y_train_bin = lb.fit_transform(y_train)\n",
    "\n",
    "ndcg = ndcg_score(lb.transform(y_test), y_pred_probs)\n",
    "\n",
    "print(\"NDCG Score:\", ndcg)"
   ]
  },
  {
   "cell_type": "code",
   "execution_count": 74,
   "id": "9257db16",
   "metadata": {},
   "outputs": [
    {
     "data": {
      "text/html": [
       "<div>\n",
       "<style scoped>\n",
       "    .dataframe tbody tr th:only-of-type {\n",
       "        vertical-align: middle;\n",
       "    }\n",
       "\n",
       "    .dataframe tbody tr th {\n",
       "        vertical-align: top;\n",
       "    }\n",
       "\n",
       "    .dataframe thead th {\n",
       "        text-align: right;\n",
       "    }\n",
       "</style>\n",
       "<table border=\"1\" class=\"dataframe\">\n",
       "  <thead>\n",
       "    <tr style=\"text-align: right;\">\n",
       "      <th></th>\n",
       "      <th>Feature</th>\n",
       "      <th>Importance</th>\n",
       "    </tr>\n",
       "  </thead>\n",
       "  <tbody>\n",
       "    <tr>\n",
       "      <th>268</th>\n",
       "      <td>pending</td>\n",
       "      <td>14.777313</td>\n",
       "    </tr>\n",
       "    <tr>\n",
       "      <th>0</th>\n",
       "      <td>gender</td>\n",
       "      <td>14.436853</td>\n",
       "    </tr>\n",
       "    <tr>\n",
       "      <th>1</th>\n",
       "      <td>age</td>\n",
       "      <td>7.654045</td>\n",
       "    </tr>\n",
       "    <tr>\n",
       "      <th>79</th>\n",
       "      <td>booking_request</td>\n",
       "      <td>6.602106</td>\n",
       "    </tr>\n",
       "    <tr>\n",
       "      <th>227</th>\n",
       "      <td>message_post</td>\n",
       "      <td>3.726283</td>\n",
       "    </tr>\n",
       "    <tr>\n",
       "      <th>5</th>\n",
       "      <td>affiliate_channel</td>\n",
       "      <td>3.537649</td>\n",
       "    </tr>\n",
       "    <tr>\n",
       "      <th>2</th>\n",
       "      <td>signup_method</td>\n",
       "      <td>2.962236</td>\n",
       "    </tr>\n",
       "    <tr>\n",
       "      <th>105</th>\n",
       "      <td>complete_status</td>\n",
       "      <td>2.845731</td>\n",
       "    </tr>\n",
       "    <tr>\n",
       "      <th>108</th>\n",
       "      <td>confirm_email_link</td>\n",
       "      <td>2.035548</td>\n",
       "    </tr>\n",
       "    <tr>\n",
       "      <th>250</th>\n",
       "      <td>other_hosting_reviews_first</td>\n",
       "      <td>1.247975</td>\n",
       "    </tr>\n",
       "    <tr>\n",
       "      <th>117</th>\n",
       "      <td>create</td>\n",
       "      <td>1.187982</td>\n",
       "    </tr>\n",
       "    <tr>\n",
       "      <th>327</th>\n",
       "      <td>requested</td>\n",
       "      <td>1.182927</td>\n",
       "    </tr>\n",
       "    <tr>\n",
       "      <th>401</th>\n",
       "      <td>update</td>\n",
       "      <td>1.109704</td>\n",
       "    </tr>\n",
       "    <tr>\n",
       "      <th>8</th>\n",
       "      <td>signup_app</td>\n",
       "      <td>1.056382</td>\n",
       "    </tr>\n",
       "    <tr>\n",
       "      <th>406</th>\n",
       "      <td>update_listing</td>\n",
       "      <td>0.977613</td>\n",
       "    </tr>\n",
       "  </tbody>\n",
       "</table>\n",
       "</div>"
      ],
      "text/plain": [
       "                         Feature  Importance\n",
       "268                      pending   14.777313\n",
       "0                         gender   14.436853\n",
       "1                            age    7.654045\n",
       "79               booking_request    6.602106\n",
       "227                 message_post    3.726283\n",
       "5              affiliate_channel    3.537649\n",
       "2                  signup_method    2.962236\n",
       "105              complete_status    2.845731\n",
       "108           confirm_email_link    2.035548\n",
       "250  other_hosting_reviews_first    1.247975\n",
       "117                       create    1.187982\n",
       "327                    requested    1.182927\n",
       "401                       update    1.109704\n",
       "8                     signup_app    1.056382\n",
       "406               update_listing    0.977613"
      ]
     },
     "execution_count": 74,
     "metadata": {},
     "output_type": "execute_result"
    }
   ],
   "source": [
    "feature_importance = model.feature_importances_\n",
    "feature_names = X_train.columns\n",
    "\n",
    "# Create a DataFrame to store feature importances\n",
    "feature_importance_df = pd.DataFrame({'Feature': feature_names, 'Importance': feature_importance})\n",
    "\n",
    "# Sort the DataFrame by importance score in descending order\n",
    "feature_importance_df = feature_importance_df.sort_values(by='Importance', ascending=False)\n",
    "feature_importance_df[:15]"
   ]
  },
  {
   "cell_type": "code",
   "execution_count": 78,
   "id": "3880b280",
   "metadata": {},
   "outputs": [
    {
     "name": "stdout",
     "output_type": "stream",
     "text": [
      "Top 5 Predicted Countries:\n",
      "[['US' 'NDF' 'other' 'FR' 'GB']\n",
      " ['US' 'NDF' 'other' 'IT' 'FR']\n",
      " ['NDF' 'US' 'other' 'FR' 'ES']\n",
      " ...\n",
      " ['NDF' 'US' 'other' 'FR' 'IT']\n",
      " ['NDF' 'US' 'other' 'FR' 'IT']\n",
      " ['NDF' 'US' 'other' 'FR' 'IT']]\n"
     ]
    }
   ],
   "source": [
    "# 예측된 상위 5개의 나라 확인\n",
    "top5_pred_indices = np.argsort(y_pred_probs, axis=1)[:, ::-1][:, :5]\n",
    "\n",
    "# Convert top 5 indices to country labels\n",
    "top5_pred_countries = model.classes_[top5_pred_indices]\n",
    "\n",
    "print(\"Top 5 Predicted Countries:\")\n",
    "print(top5_pred_countries)"
   ]
  },
  {
   "cell_type": "code",
   "execution_count": 5,
   "id": "2aefc5b1",
   "metadata": {},
   "outputs": [],
   "source": [
    "# RandomizedSearch에 사용하기 위해 커스텀 ndcg scorer 생성 -> 아직 사용 안함\n",
    "def ndcg_scorer(y_true, y_pred_proba):\n",
    "    ndcg = ndcg_score(y_true, y_pred_proba)\n",
    "    return ndcg"
   ]
  },
  {
   "cell_type": "code",
   "execution_count": 88,
   "id": "ed92c015",
   "metadata": {},
   "outputs": [
    {
     "name": "stdout",
     "output_type": "stream",
     "text": [
      "0:\tlearn: 1.9945415\ttest: 1.9974639\tbest: 1.9974639 (0)\ttotal: 2.19s\tremaining: 7m 15s\n",
      "40:\tlearn: 0.9536806\ttest: 0.9792004\tbest: 0.9792004 (40)\ttotal: 1m 48s\tremaining: 6m 59s\n",
      "80:\tlearn: 0.9321045\ttest: 0.9670333\tbest: 0.9670333 (80)\ttotal: 3m 39s\tremaining: 5m 23s\n",
      "120:\tlearn: 0.9188383\ttest: 0.9618860\tbest: 0.9618860 (120)\ttotal: 5m 31s\tremaining: 3m 36s\n",
      "160:\tlearn: 0.9086073\ttest: 0.9596349\tbest: 0.9596349 (160)\ttotal: 7m 4s\tremaining: 1m 42s\n",
      "199:\tlearn: 0.8999245\ttest: 0.9582531\tbest: 0.9582531 (199)\ttotal: 8m 43s\tremaining: 0us\n",
      "\n",
      "bestTest = 0.9582530746\n",
      "bestIteration = 199\n",
      "\n",
      "NDCG Score: 0.8616180814327093\n"
     ]
    }
   ],
   "source": [
    "# iterations 200, lr 0.1로 시도\n",
    "# 하지만 이건 타깃 클래스의 밸런스를 고려하지 않은 것\n",
    "X = merged_df_with_tfidf.drop(['user_id', 'date_account_created', 'timestamp_first_active', 'date_first_booking', 'country_destination'], axis=1)\n",
    "y = merged_df_with_tfidf['country_destination']\n",
    "\n",
    "cat_features = ['gender', 'signup_method', 'language', 'affiliate_channel', 'affiliate_provider',\n",
    "                'first_affiliate_tracked', 'signup_app', 'first_device_type', 'first_browser',\n",
    "                'most_frequent_device']\n",
    "\n",
    "X_train, X_test, y_train, y_test = train_test_split(X, y, test_size=0.2, random_state=random_seed)\n",
    "\n",
    "model = CatBoostClassifier(iterations=200, \n",
    "                            learning_rate=0.1, \n",
    "                            depth=6, \n",
    "                            loss_function='MultiClass',\n",
    "                            cat_features=cat_features,\n",
    "                            random_seed=random_seed)\n",
    "\n",
    "model.fit(X_train, y_train, eval_set=(X_test, y_test), verbose=40)\n",
    "y_pred_probs = model.predict_proba(X_test)\n",
    "\n",
    "lb = LabelBinarizer()\n",
    "y_test_bin = lb.fit_transform(y_test)\n",
    "\n",
    "ndcg = ndcg_score(y_test_bin, y_pred_probs)\n",
    "\n",
    "print(\"NDCG Score:\", ndcg)"
   ]
  },
  {
   "cell_type": "markdown",
   "id": "654529e2",
   "metadata": {},
   "source": [
    "## StratifiedKFold 사용\n",
    "- 타깃 클래스의 밸런스가 맞지 않기 때문에 Stratified한 방식 사용"
   ]
  },
  {
   "cell_type": "code",
   "execution_count": 89,
   "id": "21ae75cf",
   "metadata": {},
   "outputs": [
    {
     "name": "stdout",
     "output_type": "stream",
     "text": [
      "0:\tlearn: 2.0141036\ttest: 2.0155498\tbest: 2.0155498 (0)\ttotal: 1.17s\tremaining: 1m 55s\n",
      "40:\tlearn: 0.9555261\ttest: 0.9682831\tbest: 0.9682831 (40)\ttotal: 48.9s\tremaining: 1m 10s\n",
      "80:\tlearn: 0.9329150\ttest: 0.9556343\tbest: 0.9556343 (80)\ttotal: 1m 39s\tremaining: 23.3s\n",
      "99:\tlearn: 0.9271819\ttest: 0.9533230\tbest: 0.9533230 (99)\ttotal: 2m 4s\tremaining: 0us\n",
      "\n",
      "bestTest = 0.9533230415\n",
      "bestIteration = 99\n",
      "\n",
      "0:\tlearn: 2.0156254\ttest: 2.0146963\tbest: 2.0146963 (0)\ttotal: 1.2s\tremaining: 1m 59s\n",
      "40:\tlearn: 0.9552267\ttest: 0.9664241\tbest: 0.9664241 (40)\ttotal: 53.4s\tremaining: 1m 16s\n",
      "80:\tlearn: 0.9326867\ttest: 0.9550161\tbest: 0.9550161 (80)\ttotal: 1m 39s\tremaining: 23.4s\n",
      "99:\tlearn: 0.9262918\ttest: 0.9527377\tbest: 0.9527377 (99)\ttotal: 2m 2s\tremaining: 0us\n",
      "\n",
      "bestTest = 0.9527377308\n",
      "bestIteration = 99\n",
      "\n",
      "0:\tlearn: 2.0111178\ttest: 2.0105868\tbest: 2.0105868 (0)\ttotal: 985ms\tremaining: 1m 37s\n",
      "40:\tlearn: 0.9561544\ttest: 0.9633536\tbest: 0.9633536 (40)\ttotal: 46.4s\tremaining: 1m 6s\n",
      "80:\tlearn: 0.9349929\ttest: 0.9514184\tbest: 0.9514184 (80)\ttotal: 1m 30s\tremaining: 21.3s\n",
      "99:\tlearn: 0.9287098\ttest: 0.9491798\tbest: 0.9491798 (99)\ttotal: 1m 52s\tremaining: 0us\n",
      "\n",
      "bestTest = 0.9491797601\n",
      "bestIteration = 99\n",
      "\n",
      "Mean NDCG Score: 0.8608016042135032\n"
     ]
    }
   ],
   "source": [
    "# StratifiedKFold 사용\n",
    "n_splits = 3\n",
    "\n",
    "skf = StratifiedKFold(n_splits=n_splits, shuffle=True, random_state=random_seed)\n",
    "\n",
    "model = CatBoostClassifier(iterations=100, \n",
    "                           learning_rate=0.1, \n",
    "                           depth=6, \n",
    "                           loss_function='MultiClass',\n",
    "                           cat_features=cat_features,\n",
    "                           random_seed=random_seed,\n",
    "                           verbose=40)\n",
    "\n",
    "ndcg_scores = []\n",
    "\n",
    "for train_index, test_index in skf.split(X, y):\n",
    "    X_train_fold, X_test_fold = X.iloc[train_index], X.iloc[test_index]\n",
    "    y_train_fold, y_test_fold = y.iloc[train_index], y.iloc[test_index]\n",
    "    \n",
    "    model.fit(X_train_fold, y_train_fold, eval_set=(X_test_fold, y_test_fold))\n",
    "    \n",
    "    y_pred_probs_fold = model.predict_proba(X_test_fold)\n",
    "    \n",
    "    ndcg_fold = ndcg_score(lb.transform(y_test_fold), y_pred_probs_fold)\n",
    "    ndcg_scores.append(ndcg_fold)\n",
    "\n",
    "mean_ndcg = np.mean(ndcg_scores)\n",
    "print(\"Mean NDCG Score:\", mean_ndcg)"
   ]
  },
  {
   "cell_type": "code",
   "execution_count": 7,
   "id": "98873fc5",
   "metadata": {},
   "outputs": [],
   "source": [
    "cat_features = ['gender', 'signup_method', 'language', 'affiliate_channel', 'affiliate_provider',\n",
    "                'first_affiliate_tracked', 'signup_app', 'first_device_type', 'first_browser',\n",
    "                'most_frequent_device']"
   ]
  },
  {
   "cell_type": "code",
   "execution_count": 9,
   "id": "7491fa0a",
   "metadata": {},
   "outputs": [],
   "source": [
    "X = merged_df_with_tfidf.drop(['user_id', 'date_account_created', 'timestamp_first_active', 'date_first_booking', 'country_destination'], axis=1)\n",
    "y = merged_df_with_tfidf['country_destination']"
   ]
  },
  {
   "cell_type": "code",
   "execution_count": 13,
   "id": "78a70f94",
   "metadata": {},
   "outputs": [
    {
     "name": "stdout",
     "output_type": "stream",
     "text": [
      "0:\tlearn: 1.9953136\ttest: 1.9967430\tbest: 1.9967430 (0)\ttotal: 1.54s\tremaining: 5m 6s\n",
      "40:\tlearn: 0.9540933\ttest: 0.9662123\tbest: 0.9662123 (40)\ttotal: 1m 12s\tremaining: 4m 40s\n",
      "80:\tlearn: 0.9323213\ttest: 0.9537125\tbest: 0.9537125 (80)\ttotal: 2m 22s\tremaining: 3m 29s\n",
      "120:\tlearn: 0.9185497\ttest: 0.9494213\tbest: 0.9494213 (120)\ttotal: 3m 32s\tremaining: 2m 19s\n",
      "160:\tlearn: 0.9071476\ttest: 0.9469884\tbest: 0.9469884 (160)\ttotal: 4m 38s\tremaining: 1m 7s\n",
      "199:\tlearn: 0.8980741\ttest: 0.9455860\tbest: 0.9455860 (199)\ttotal: 5m 40s\tremaining: 0us\n",
      "\n",
      "bestTest = 0.9455860303\n",
      "bestIteration = 199\n",
      "\n",
      "0:\tlearn: 1.9911600\ttest: 1.9910313\tbest: 1.9910313 (0)\ttotal: 1.52s\tremaining: 5m 2s\n",
      "40:\tlearn: 0.9576103\ttest: 0.9677688\tbest: 0.9677688 (40)\ttotal: 1m 10s\tremaining: 4m 34s\n",
      "80:\tlearn: 0.9370525\ttest: 0.9564137\tbest: 0.9564137 (80)\ttotal: 2m 21s\tremaining: 3m 27s\n",
      "120:\tlearn: 0.9219716\ttest: 0.9504473\tbest: 0.9504473 (120)\ttotal: 3m 31s\tremaining: 2m 18s\n",
      "160:\tlearn: 0.9092072\ttest: 0.9472908\tbest: 0.9472908 (160)\ttotal: 4m 38s\tremaining: 1m 7s\n",
      "199:\tlearn: 0.9003825\ttest: 0.9461210\tbest: 0.9460504 (198)\ttotal: 5m 49s\tremaining: 0us\n",
      "\n",
      "bestTest = 0.9460503619\n",
      "bestIteration = 198\n",
      "\n",
      "Shrink model to first 199 iterations.\n",
      "0:\tlearn: 1.9862163\ttest: 1.9870443\tbest: 1.9870443 (0)\ttotal: 1.48s\tremaining: 4m 55s\n",
      "40:\tlearn: 0.9593701\ttest: 0.9651673\tbest: 0.9651673 (40)\ttotal: 1m 9s\tremaining: 4m 31s\n",
      "80:\tlearn: 0.9377311\ttest: 0.9537374\tbest: 0.9537374 (80)\ttotal: 2m 23s\tremaining: 3m 30s\n",
      "120:\tlearn: 0.9235793\ttest: 0.9486498\tbest: 0.9486387 (119)\ttotal: 3m 33s\tremaining: 2m 19s\n",
      "160:\tlearn: 0.9104132\ttest: 0.9455662\tbest: 0.9455662 (160)\ttotal: 4m 39s\tremaining: 1m 7s\n",
      "199:\tlearn: 0.9009261\ttest: 0.9442416\tbest: 0.9442372 (196)\ttotal: 5m 44s\tremaining: 0us\n",
      "\n",
      "bestTest = 0.9442372175\n",
      "bestIteration = 196\n",
      "\n",
      "Shrink model to first 197 iterations.\n",
      "Mean NDCG Score: 0.8625026909349884\n"
     ]
    }
   ],
   "source": [
    "# feature 그대로, iterations만 다르게 진행\n",
    "n_splits = 3\n",
    "\n",
    "skf = StratifiedKFold(n_splits=n_splits, shuffle=True, random_state=random_seed)\n",
    "\n",
    "model = CatBoostClassifier(iterations=200, \n",
    "                           learning_rate=0.1, \n",
    "                           depth=6, \n",
    "                           loss_function='MultiClass',\n",
    "                           cat_features=cat_features,\n",
    "                           random_seed=random_seed,\n",
    "                           verbose=40)\n",
    "\n",
    "ndcg_scores = []\n",
    "\n",
    "lb = LabelBinarizer()\n",
    "lb.fit(y)\n",
    "\n",
    "for train_index, test_index in skf.split(X, y):\n",
    "    X_train_fold, X_test_fold = X.iloc[train_index], X.iloc[test_index]\n",
    "    y_train_fold, y_test_fold = y.iloc[train_index], y.iloc[test_index]\n",
    "    \n",
    "    model.fit(X_train_fold, y_train_fold, eval_set=(X_test_fold, y_test_fold))\n",
    "    \n",
    "    y_pred_probs_fold = model.predict_proba(X_test_fold)\n",
    "    \n",
    "    ndcg_fold = ndcg_score(lb.transform(y_test_fold), y_pred_probs_fold)\n",
    "    ndcg_scores.append(ndcg_fold)\n",
    "\n",
    "mean_ndcg = np.mean(ndcg_scores)\n",
    "print(\"Mean NDCG Score:\", mean_ndcg)"
   ]
  },
  {
   "cell_type": "code",
   "execution_count": 15,
   "id": "c77a6ed6",
   "metadata": {},
   "outputs": [],
   "source": [
    "feature_importances = model.feature_importances_\n",
    "\n",
    "features = X.columns\n",
    "\n",
    "importance_df = pd.DataFrame({'Feature': features, 'Importance': feature_importances})\n",
    "\n",
    "importance_df = importance_df.sort_values(by='Importance', ascending=False)"
   ]
  },
  {
   "cell_type": "code",
   "execution_count": 16,
   "id": "73ce4edf",
   "metadata": {},
   "outputs": [
    {
     "data": {
      "text/html": [
       "<div>\n",
       "<style scoped>\n",
       "    .dataframe tbody tr th:only-of-type {\n",
       "        vertical-align: middle;\n",
       "    }\n",
       "\n",
       "    .dataframe tbody tr th {\n",
       "        vertical-align: top;\n",
       "    }\n",
       "\n",
       "    .dataframe thead th {\n",
       "        text-align: right;\n",
       "    }\n",
       "</style>\n",
       "<table border=\"1\" class=\"dataframe\">\n",
       "  <thead>\n",
       "    <tr style=\"text-align: right;\">\n",
       "      <th></th>\n",
       "      <th>Feature</th>\n",
       "      <th>Importance</th>\n",
       "    </tr>\n",
       "  </thead>\n",
       "  <tbody>\n",
       "    <tr>\n",
       "      <th>0</th>\n",
       "      <td>gender</td>\n",
       "      <td>13.565267</td>\n",
       "    </tr>\n",
       "    <tr>\n",
       "      <th>79</th>\n",
       "      <td>booking_request</td>\n",
       "      <td>8.037619</td>\n",
       "    </tr>\n",
       "    <tr>\n",
       "      <th>1</th>\n",
       "      <td>age</td>\n",
       "      <td>7.537714</td>\n",
       "    </tr>\n",
       "    <tr>\n",
       "      <th>227</th>\n",
       "      <td>message_post</td>\n",
       "      <td>5.516404</td>\n",
       "    </tr>\n",
       "    <tr>\n",
       "      <th>9</th>\n",
       "      <td>first_device_type</td>\n",
       "      <td>3.201249</td>\n",
       "    </tr>\n",
       "    <tr>\n",
       "      <th>...</th>\n",
       "      <td>...</td>\n",
       "      <td>...</td>\n",
       "    </tr>\n",
       "    <tr>\n",
       "      <th>187</th>\n",
       "      <td>hosting_social_proof</td>\n",
       "      <td>0.000000</td>\n",
       "    </tr>\n",
       "    <tr>\n",
       "      <th>186</th>\n",
       "      <td>host_summary</td>\n",
       "      <td>0.000000</td>\n",
       "    </tr>\n",
       "    <tr>\n",
       "      <th>185</th>\n",
       "      <td>host_respond</td>\n",
       "      <td>0.000000</td>\n",
       "    </tr>\n",
       "    <tr>\n",
       "      <th>183</th>\n",
       "      <td>host_guarantee</td>\n",
       "      <td>0.000000</td>\n",
       "    </tr>\n",
       "    <tr>\n",
       "      <th>443</th>\n",
       "      <td>zendesk_login_jwt</td>\n",
       "      <td>0.000000</td>\n",
       "    </tr>\n",
       "  </tbody>\n",
       "</table>\n",
       "<p>444 rows × 2 columns</p>\n",
       "</div>"
      ],
      "text/plain": [
       "                  Feature  Importance\n",
       "0                  gender   13.565267\n",
       "79        booking_request    8.037619\n",
       "1                     age    7.537714\n",
       "227          message_post    5.516404\n",
       "9       first_device_type    3.201249\n",
       "..                    ...         ...\n",
       "187  hosting_social_proof    0.000000\n",
       "186          host_summary    0.000000\n",
       "185          host_respond    0.000000\n",
       "183        host_guarantee    0.000000\n",
       "443     zendesk_login_jwt    0.000000\n",
       "\n",
       "[444 rows x 2 columns]"
      ]
     },
     "execution_count": 16,
     "metadata": {},
     "output_type": "execute_result"
    }
   ],
   "source": [
    "importance_df"
   ]
  },
  {
   "cell_type": "code",
   "execution_count": 50,
   "id": "5dc287ce",
   "metadata": {},
   "outputs": [],
   "source": [
    "# 중요도가 낮은 피처들 제거\n",
    "low_importance_feat = importance_df[importance_df['Importance'] < 0.01]['Feature'].to_list()\n",
    "# low_importance_feat"
   ]
  },
  {
   "cell_type": "code",
   "execution_count": 19,
   "id": "8a4891d2",
   "metadata": {
    "scrolled": true
   },
   "outputs": [
    {
     "data": {
      "text/plain": [
       "289"
      ]
     },
     "execution_count": 19,
     "metadata": {},
     "output_type": "execute_result"
    }
   ],
   "source": [
    "len(low_importance_feat)"
   ]
  },
  {
   "cell_type": "markdown",
   "id": "37cb7ead",
   "metadata": {},
   "source": [
    "### feature 제거\n",
    "- 중요도가 0.01보다 낮은 피처를 제거하고 다시 시도"
   ]
  },
  {
   "cell_type": "code",
   "execution_count": 35,
   "id": "b90a5337",
   "metadata": {},
   "outputs": [],
   "source": [
    "cat_features2 = ['gender', 'signup_method', 'language', 'affiliate_channel', 'affiliate_provider',\n",
    "                'first_affiliate_tracked', 'signup_app', 'first_device_type',\n",
    "                'most_frequent_device']"
   ]
  },
  {
   "cell_type": "code",
   "execution_count": 37,
   "id": "edb1021a",
   "metadata": {},
   "outputs": [],
   "source": [
    "cols_to_drop = ['user_id', 'date_account_created', 'timestamp_first_active', 'date_first_booking', 'country_destination']\n",
    "combined_list = cols_to_drop + low_importance_feat\n",
    "\n",
    "X2 = merged_df_with_tfidf.drop(combined_list, axis=1)\n",
    "y2 = merged_df_with_tfidf['country_destination']"
   ]
  },
  {
   "cell_type": "code",
   "execution_count": 38,
   "id": "8631ed14",
   "metadata": {
    "scrolled": false
   },
   "outputs": [
    {
     "name": "stdout",
     "output_type": "stream",
     "text": [
      "0:\tlearn: 1.9880020\ttest: 1.9899375\tbest: 1.9899375 (0)\ttotal: 1.26s\tremaining: 4m 10s\n",
      "40:\tlearn: 0.9555220\ttest: 0.9670932\tbest: 0.9670932 (40)\ttotal: 1m\tremaining: 3m 53s\n",
      "80:\tlearn: 0.9320076\ttest: 0.9536960\tbest: 0.9536960 (80)\ttotal: 2m 1s\tremaining: 2m 58s\n",
      "120:\tlearn: 0.9177474\ttest: 0.9495016\tbest: 0.9495016 (120)\ttotal: 3m 1s\tremaining: 1m 58s\n",
      "160:\tlearn: 0.9032043\ttest: 0.9461865\tbest: 0.9461865 (160)\ttotal: 3m 56s\tremaining: 57.2s\n",
      "199:\tlearn: 0.8918423\ttest: 0.9448538\tbest: 0.9448538 (199)\ttotal: 4m 50s\tremaining: 0us\n",
      "\n",
      "bestTest = 0.9448538012\n",
      "bestIteration = 199\n",
      "\n",
      "0:\tlearn: 2.0098460\ttest: 2.0107668\tbest: 2.0107668 (0)\ttotal: 1.1s\tremaining: 3m 39s\n",
      "40:\tlearn: 0.9558826\ttest: 0.9675408\tbest: 0.9675408 (40)\ttotal: 1m 1s\tremaining: 3m 58s\n",
      "80:\tlearn: 0.9332032\ttest: 0.9554453\tbest: 0.9554453 (80)\ttotal: 1m 59s\tremaining: 2m 55s\n",
      "120:\tlearn: 0.9179083\ttest: 0.9501677\tbest: 0.9501677 (120)\ttotal: 2m 55s\tremaining: 1m 54s\n",
      "160:\tlearn: 0.9040085\ttest: 0.9472475\tbest: 0.9472305 (159)\ttotal: 3m 48s\tremaining: 55.5s\n",
      "199:\tlearn: 0.8940135\ttest: 0.9462325\tbest: 0.9462103 (198)\ttotal: 4m 41s\tremaining: 0us\n",
      "\n",
      "bestTest = 0.9462102928\n",
      "bestIteration = 198\n",
      "\n",
      "Shrink model to first 199 iterations.\n",
      "0:\tlearn: 2.0053467\ttest: 2.0056368\tbest: 2.0056368 (0)\ttotal: 1.1s\tremaining: 3m 39s\n",
      "40:\tlearn: 0.9545080\ttest: 0.9629203\tbest: 0.9629203 (40)\ttotal: 1m 2s\tremaining: 4m 1s\n",
      "80:\tlearn: 0.9340271\ttest: 0.9519944\tbest: 0.9519944 (80)\ttotal: 2m\tremaining: 2m 57s\n",
      "120:\tlearn: 0.9192922\ttest: 0.9472188\tbest: 0.9472188 (120)\ttotal: 3m\tremaining: 1m 57s\n",
      "160:\tlearn: 0.9049793\ttest: 0.9447224\tbest: 0.9447224 (160)\ttotal: 3m 55s\tremaining: 57.1s\n",
      "199:\tlearn: 0.8943877\ttest: 0.9441359\tbest: 0.9441359 (199)\ttotal: 4m 51s\tremaining: 0us\n",
      "\n",
      "bestTest = 0.9441359367\n",
      "bestIteration = 199\n",
      "\n",
      "Mean NDCG Score: 0.8628312466479079\n"
     ]
    }
   ],
   "source": [
    "n_splits = 3\n",
    "skf = StratifiedKFold(n_splits=n_splits, shuffle=True, random_state=random_seed)\n",
    "\n",
    "model = CatBoostClassifier(iterations=200, \n",
    "                           learning_rate=0.1, \n",
    "                           depth=6, \n",
    "                           loss_function='MultiClass',\n",
    "                           cat_features=cat_features2,\n",
    "                           random_seed=random_seed,\n",
    "                           verbose=40)\n",
    "\n",
    "ndcg_scores = []\n",
    "\n",
    "lb = LabelBinarizer()\n",
    "lb.fit(y2)\n",
    "\n",
    "for train_index, test_index in skf.split(X2, y2):\n",
    "    X_train_fold, X_test_fold = X2.iloc[train_index], X2.iloc[test_index]\n",
    "    y_train_fold, y_test_fold = y2.iloc[train_index], y2.iloc[test_index]\n",
    "    \n",
    "    model.fit(X_train_fold, y_train_fold, eval_set=(X_test_fold, y_test_fold))\n",
    "    \n",
    "    y_pred_probs_fold = model.predict_proba(X_test_fold)\n",
    "    \n",
    "    ndcg_fold = ndcg_score(lb.transform(y_test_fold), y_pred_probs_fold)\n",
    "    ndcg_scores.append(ndcg_fold)\n",
    "\n",
    "mean_ndcg = np.mean(ndcg_scores)\n",
    "print(\"Mean NDCG Score:\", mean_ndcg)"
   ]
  },
  {
   "cell_type": "code",
   "execution_count": null,
   "id": "1e78e728",
   "metadata": {},
   "outputs": [],
   "source": []
  }
 ],
 "metadata": {
  "kernelspec": {
   "display_name": "Python 3 (ipykernel)",
   "language": "python",
   "name": "python3"
  },
  "language_info": {
   "codemirror_mode": {
    "name": "ipython",
    "version": 3
   },
   "file_extension": ".py",
   "mimetype": "text/x-python",
   "name": "python",
   "nbconvert_exporter": "python",
   "pygments_lexer": "ipython3",
   "version": "3.11.5"
  }
 },
 "nbformat": 4,
 "nbformat_minor": 5
}
